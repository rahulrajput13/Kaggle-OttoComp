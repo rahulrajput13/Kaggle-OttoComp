{
 "cells": [
  {
   "cell_type": "code",
   "execution_count": null,
   "metadata": {
    "id": "9xp0eI-gwuGZ"
   },
   "outputs": [],
   "source": [
    "import numpy as np"
   ]
  },
  {
   "cell_type": "markdown",
   "metadata": {
    "id": "xxb_B5VwHGq3"
   },
   "source": [
    "# Case Study"
   ]
  },
  {
   "cell_type": "markdown",
   "metadata": {
    "id": "LCxyEYLLK18k"
   },
   "source": [
    "####  What are the typical post harvest concerns for farmers and what is the role of a collection center in integrating farm supply chains and improving fresh produce distribution ? How does the supply chain network for VFF compare with traditional fresh produce distribution?\n",
    "\n",
    "**Post-harvest concerns for farmers typically include:**\n",
    "\n",
    "* Food waste: Fresh produce is perishable and can spoil quickly if not handled properly. This can lead to significant losses for farmers.\n",
    "* Quality: Fresh produce must be of high quality in order to be sold at a premium price. Farmers must take care to harvest and handle produce properly to ensure its quality.\n",
    "* Market access: Farmers often have difficulty accessing markets where they can sell their produce at a fair price. This can lead to low profits and make it difficult for farmers to make a living.\n",
    "\n",
    "**Role of Collection Centre**\n",
    "\n",
    "The collection center can help to address these concerns by providing farmers with a central location to sell their produce. This can help to reduce food waste, improve quality, and increase market access for farmers.\n",
    "\n",
    "A collection center can also help to integrate farm supply chains and improve fresh produce distribution. This is because a collection center can provide farmers with access to cold storage, grading, and packing facilities. These facilities can help to extend the shelf life of produce and ensure that it is of high quality when it reaches consumers.\n",
    "\n",
    "**VFF compare with traditional fresh produce distribution**\n",
    "\n",
    "\n",
    "The supply chain network for VFF is different from traditional fresh produce distribution in several ways. First, VFF sources its produce directly from farmers. This eliminates the need for middlemen, which can help to reduce costs for farmers and consumers. Second, VFF uses a collection center to aggregate produce from different farmers. This helps to ensure that VFF has a steady supply of produce and that it can meet the demands of its customers. Third, VFF uses cold storage and grading facilities to extend the shelf life of produce and ensure that it is of high quality when it reaches consumers.\n",
    "\n",
    "The use of a collection center and cold storage facilities can help VFF to reduce food waste, improve quality, and increase market access for farmers. This can lead to higher profits for farmers and lower prices for consumers"
   ]
  },
  {
   "cell_type": "markdown",
   "metadata": {
    "id": "C2TQ52Y3PhNS"
   },
   "source": [
    "#### What profit does the farmer earn on produce and how does this compare with the actual customer purchase price from a retail outlet?\n",
    "\n",
    "* Farmers earn a profit of INR 8.25 per Kg.\n",
    "* Average Actual purchase price from retial outlet is INR 22.5 per Kg.\n",
    "\n",
    "The selling price is high compared to what a farmer earns. But the actual profit that the retail store makes is only about INR 2.82 as the cost incured by retail store is INR 19.68 per kg. It is a good deal for farmers as they do not have to be concerned about selling all the produce themselves, distributing it or even be concerned about the wastage. As this now becomes the comcern of the retail stores.\n",
    "\n",
    "\n"
   ]
  },
  {
   "cell_type": "markdown",
   "metadata": {
    "id": "T7T0jxUxNNWt"
   },
   "source": [
    "#### List the produce attributes and other variables influencing demand for produce that affect the quantity to be procured by VFF.\n",
    "\n",
    "* Seasonality: The demand for produce varies depending on the season. For example, the demand for watermelon is higher in the summer than in the winter.\n",
    "* Price: If the price of produce is too high, consumers may be less likely to buy it.\n",
    "* Convenience: Consumers are more likely to buy produce that is easy to prepare and cook.\n",
    "* Brand: Consumers are more likely to buy produce from brands that they trust.\n",
    "* Economic conditions: during a recession, consumers may be more likely to buy less expensive produce.\n",
    "* Taste trends: if there is a trend towards eating healthier, the demand for fruits and vegetables may increase.\n",
    "* Health concerns: if there is a concern about the safety of eating meat, the demand for fruits and vegetables may increase.\n"
   ]
  },
  {
   "cell_type": "markdown",
   "metadata": {
    "id": "O_NMtOG-XX6C"
   },
   "source": [
    "#### How should Vasant Farm Fresh (VFF) reduce food wastage ? Consider three different scenarios:\n",
    "\n",
    "We do not account for any additional logistics/labor cost within our cost variables as it is mentioned that Logistics, labour, and wastage costs were added to the basic cost of F&V; the cost to the consumer was\n",
    "inflated on account of these incidental costs. To keep a check on the out-of-pocket price the consumer had\n",
    "to pay for F&V, these incidental costs had to be kept at a minimum. There was not much that could be done\n",
    "in terms of controlling the logistics and labour costs. The cost arising from wastage, however, could be\n",
    "better controlled."
   ]
  },
  {
   "cell_type": "code",
   "execution_count": null,
   "metadata": {
    "colab": {
     "base_uri": "https://localhost:8080/",
     "height": 431
    },
    "id": "YCBvfMFe63Zi",
    "outputId": "7d9b67b7-21b9-4a42-a485-b3c7a0fa34df"
   },
   "outputs": [
    {
     "data": {
      "text/html": [
       "\n",
       "     <input type=\"file\" id=\"files-c199cf0a-6f01-45b6-9745-4752e0af5695\" name=\"files[]\" multiple disabled\n",
       "        style=\"border:none\" />\n",
       "     <output id=\"result-c199cf0a-6f01-45b6-9745-4752e0af5695\">\n",
       "      Upload widget is only available when the cell has been executed in the\n",
       "      current browser session. Please rerun this cell to enable.\n",
       "      </output>\n",
       "      <script>// Copyright 2017 Google LLC\n",
       "//\n",
       "// Licensed under the Apache License, Version 2.0 (the \"License\");\n",
       "// you may not use this file except in compliance with the License.\n",
       "// You may obtain a copy of the License at\n",
       "//\n",
       "//      http://www.apache.org/licenses/LICENSE-2.0\n",
       "//\n",
       "// Unless required by applicable law or agreed to in writing, software\n",
       "// distributed under the License is distributed on an \"AS IS\" BASIS,\n",
       "// WITHOUT WARRANTIES OR CONDITIONS OF ANY KIND, either express or implied.\n",
       "// See the License for the specific language governing permissions and\n",
       "// limitations under the License.\n",
       "\n",
       "/**\n",
       " * @fileoverview Helpers for google.colab Python module.\n",
       " */\n",
       "(function(scope) {\n",
       "function span(text, styleAttributes = {}) {\n",
       "  const element = document.createElement('span');\n",
       "  element.textContent = text;\n",
       "  for (const key of Object.keys(styleAttributes)) {\n",
       "    element.style[key] = styleAttributes[key];\n",
       "  }\n",
       "  return element;\n",
       "}\n",
       "\n",
       "// Max number of bytes which will be uploaded at a time.\n",
       "const MAX_PAYLOAD_SIZE = 100 * 1024;\n",
       "\n",
       "function _uploadFiles(inputId, outputId) {\n",
       "  const steps = uploadFilesStep(inputId, outputId);\n",
       "  const outputElement = document.getElementById(outputId);\n",
       "  // Cache steps on the outputElement to make it available for the next call\n",
       "  // to uploadFilesContinue from Python.\n",
       "  outputElement.steps = steps;\n",
       "\n",
       "  return _uploadFilesContinue(outputId);\n",
       "}\n",
       "\n",
       "// This is roughly an async generator (not supported in the browser yet),\n",
       "// where there are multiple asynchronous steps and the Python side is going\n",
       "// to poll for completion of each step.\n",
       "// This uses a Promise to block the python side on completion of each step,\n",
       "// then passes the result of the previous step as the input to the next step.\n",
       "function _uploadFilesContinue(outputId) {\n",
       "  const outputElement = document.getElementById(outputId);\n",
       "  const steps = outputElement.steps;\n",
       "\n",
       "  const next = steps.next(outputElement.lastPromiseValue);\n",
       "  return Promise.resolve(next.value.promise).then((value) => {\n",
       "    // Cache the last promise value to make it available to the next\n",
       "    // step of the generator.\n",
       "    outputElement.lastPromiseValue = value;\n",
       "    return next.value.response;\n",
       "  });\n",
       "}\n",
       "\n",
       "/**\n",
       " * Generator function which is called between each async step of the upload\n",
       " * process.\n",
       " * @param {string} inputId Element ID of the input file picker element.\n",
       " * @param {string} outputId Element ID of the output display.\n",
       " * @return {!Iterable<!Object>} Iterable of next steps.\n",
       " */\n",
       "function* uploadFilesStep(inputId, outputId) {\n",
       "  const inputElement = document.getElementById(inputId);\n",
       "  inputElement.disabled = false;\n",
       "\n",
       "  const outputElement = document.getElementById(outputId);\n",
       "  outputElement.innerHTML = '';\n",
       "\n",
       "  const pickedPromise = new Promise((resolve) => {\n",
       "    inputElement.addEventListener('change', (e) => {\n",
       "      resolve(e.target.files);\n",
       "    });\n",
       "  });\n",
       "\n",
       "  const cancel = document.createElement('button');\n",
       "  inputElement.parentElement.appendChild(cancel);\n",
       "  cancel.textContent = 'Cancel upload';\n",
       "  const cancelPromise = new Promise((resolve) => {\n",
       "    cancel.onclick = () => {\n",
       "      resolve(null);\n",
       "    };\n",
       "  });\n",
       "\n",
       "  // Wait for the user to pick the files.\n",
       "  const files = yield {\n",
       "    promise: Promise.race([pickedPromise, cancelPromise]),\n",
       "    response: {\n",
       "      action: 'starting',\n",
       "    }\n",
       "  };\n",
       "\n",
       "  cancel.remove();\n",
       "\n",
       "  // Disable the input element since further picks are not allowed.\n",
       "  inputElement.disabled = true;\n",
       "\n",
       "  if (!files) {\n",
       "    return {\n",
       "      response: {\n",
       "        action: 'complete',\n",
       "      }\n",
       "    };\n",
       "  }\n",
       "\n",
       "  for (const file of files) {\n",
       "    const li = document.createElement('li');\n",
       "    li.append(span(file.name, {fontWeight: 'bold'}));\n",
       "    li.append(span(\n",
       "        `(${file.type || 'n/a'}) - ${file.size} bytes, ` +\n",
       "        `last modified: ${\n",
       "            file.lastModifiedDate ? file.lastModifiedDate.toLocaleDateString() :\n",
       "                                    'n/a'} - `));\n",
       "    const percent = span('0% done');\n",
       "    li.appendChild(percent);\n",
       "\n",
       "    outputElement.appendChild(li);\n",
       "\n",
       "    const fileDataPromise = new Promise((resolve) => {\n",
       "      const reader = new FileReader();\n",
       "      reader.onload = (e) => {\n",
       "        resolve(e.target.result);\n",
       "      };\n",
       "      reader.readAsArrayBuffer(file);\n",
       "    });\n",
       "    // Wait for the data to be ready.\n",
       "    let fileData = yield {\n",
       "      promise: fileDataPromise,\n",
       "      response: {\n",
       "        action: 'continue',\n",
       "      }\n",
       "    };\n",
       "\n",
       "    // Use a chunked sending to avoid message size limits. See b/62115660.\n",
       "    let position = 0;\n",
       "    do {\n",
       "      const length = Math.min(fileData.byteLength - position, MAX_PAYLOAD_SIZE);\n",
       "      const chunk = new Uint8Array(fileData, position, length);\n",
       "      position += length;\n",
       "\n",
       "      const base64 = btoa(String.fromCharCode.apply(null, chunk));\n",
       "      yield {\n",
       "        response: {\n",
       "          action: 'append',\n",
       "          file: file.name,\n",
       "          data: base64,\n",
       "        },\n",
       "      };\n",
       "\n",
       "      let percentDone = fileData.byteLength === 0 ?\n",
       "          100 :\n",
       "          Math.round((position / fileData.byteLength) * 100);\n",
       "      percent.textContent = `${percentDone}% done`;\n",
       "\n",
       "    } while (position < fileData.byteLength);\n",
       "  }\n",
       "\n",
       "  // All done.\n",
       "  yield {\n",
       "    response: {\n",
       "      action: 'complete',\n",
       "    }\n",
       "  };\n",
       "}\n",
       "\n",
       "scope.google = scope.google || {};\n",
       "scope.google.colab = scope.google.colab || {};\n",
       "scope.google.colab._files = {\n",
       "  _uploadFiles,\n",
       "  _uploadFilesContinue,\n",
       "};\n",
       "})(self);\n",
       "</script> "
      ],
      "text/plain": [
       "<IPython.core.display.HTML object>"
      ]
     },
     "metadata": {},
     "output_type": "display_data"
    },
    {
     "name": "stdout",
     "output_type": "stream",
     "text": [
      "Saving VFF_merged.csv to VFF_merged.csv\n"
     ]
    },
    {
     "data": {
      "text/plain": [
       "{'VFF_merged.csv': b'Date,Min Price ,Max Price,Modal Price,Date 2,Purchase,Retail Sales,Wholesale,Total Sales\\r\\n01-Apr-15,1000,\"1,500\",1300,01/04/15,42,26,10,36\\r\\n02-Apr-15,\"1,000\",1500,\"1,300\",02/04/15,47,23,4,27\\r\\n03-Apr-15,1200,1800,\"1,600\",03/04/15,53,31,26,57\\r\\n04-Apr-15,\"1,000\",2500,1300,04/04/15,101,41,15,56\\r\\n06-Apr-15,\"1,000\",\"1,800\",\"1,500\",06/04/15,57,33,5,38\\r\\n07-Apr-15,800,1500,\"1,200\",07/04/15,75,32,11,43\\r\\n08-Apr-15,700,\"1,200\",\"1,000\",08/04/15,83,0,2,30\\r\\n09-Apr-15,1000,\"1,500\",\"1,300\",09/04/15,67,28,7,27\\r\\n10-Apr-15,1000,\"1,600\",1400,10/04/15,59,20,10,37\\r\\n11-Apr-15,700,1500,\"1,200\",11/04/15,85,27,7,49\\r\\n13-ADr-15,500,1000,800,13/04/15,68,36,7,37\\r\\n14-Apr-15,500,1000,800,14/04/15,46,30,1,28\\r\\n15-Apr-15,600,1200,\"1,000\",15/04/15,43,27,1,15\\r\\n16-Apr-15,400,\"1,200\",\"1,000\",16/04/15,57,14,7,26\\r\\n17-Apr-15,500,\"1,000\",800,17/04/15,46,19,6,17\\r\\n18-Apr-15.,500,1000,800,18/04/15,64,11,12,48\\r\\n20-Apr-15.,500,1000,800,20/04/15,55,32,11,32\\r\\n21-Apr-15,600,\"1,100\",900,21/04/15,69,21,14,36\\r\\n22-Apr-15,500,\"1,000\",800,22/04/15,42,22,7,24\\r\\n23-Apr-15,500,1100,900,23/04/15,43,17,10,35\\r\\n24-Apr-15,700,\"1,200\",\"1,000\",24/04/15,47,25,13,27\\r\\n25-Apr-15,\"1,000\",\"1,800\",\"1,500\",25/04/15,82,14,3,38\\r\\n27-Apr-15,\"1,000\",\"2,000\",\"1,600\",27/04/15,12,34,2,21\\r\\n28-Apr-15,\"1,000\",2000,\"1,800\",28/04/15,64,19,2,15\\r\\n29-Apr-15,\"1,000\",1700,\"1,400\",29/04/15,23,13,2,7\\r\\n30-Apr-15,\"1,000\",\"1,700\",\"1,500\",30/04/15,28,5,10,20\\r\\n01-May-15,1000,2,\"1,800\",01/05/15,25,10,4,14\\r\\n02-May-15,1000,2250,\"1,800\",02/05/15,54,10,2,22\\r\\n04-May-15,1000,2500,\"2,000\",04/05/15,60,3,0,14\\r\\n05-May-15,\"1,000\",\"2,200\",\"1,800\",05/05/15,10,14,0,13\\r\\n06-May-15,\"1,000\",2250,\"1,800\",06/05/15,29,13,1,13\\r\\n07-May-15,800,2000,\"1,600\",07/05/15,10,12,1,8\\r\\n8-May-15.,1500,2500,\"2,200\",08/05/15,3,7,0,0\\r\\n09-May-15,\"1,000\",\"2,500\",2000,09/05/15,30,26,4,30\\r\\n11-May-15,1500,\"2,500\",2200,11/05/15,23,8,0,8\\r\\n12-May-15,900,2000,1500,12/05/15,55,18,1,19\\r\\n13-May-15,600,1500,1100,13/05/15,45,16,1,17\\r\\n14-May-15,800,1500,\"1,200\",14/05/15,49,14,0,14\\r\\n15-May-15,\"1,000\",\"2,000\",1600,15/05/15,41,10,1,11\\r\\n16-May-15,\"1,000\",1800,1500,16/05/15,51,8,0,8\\r\\n18-May-15,1000,1750,\"1,500\",18/05/15,41,14,0,14\\r\\n19-May-15,\"1,000\",\"2,000\",\"1,600\",19/05/15,44,8,1,9\\r\\n20-May-15,800,\"1,500\",\"1,200\",20/05/15,0,12,1,13\\r\\n21-May-15,1000,\"1,600\",1400,21/05/15,60,17,1,18\\r\\n22-May-15,700,1500,1200,22/05/15,0,5,1,6\\r\\n23-May-15,500,\"1,300\",\"1,000\",23/05/15,49,12,0,12\\r\\n25-May-15,\"1,000\",\"1,800\",\"1,500\",25/05/15,62,19,0,19\\r\\n26-May-15,1000,1600,1400,26/05/15,83,62,1,63\\r\\n27-May-15,1000,1800,\"1,500\",27/05/15,84,33,0,33\\r\\n28-May-15,\"1,200\",\"2,500\",\"1,900\",28/05/15,64,20,1,21\\r\\n29-May-15,1000,2200,\"1,800\",29/05/15,49,16,1,17\\r\\n30-May-15,1500,\"2,000\",1800,30/05/15,29,13,3,16'}"
      ]
     },
     "execution_count": 1,
     "metadata": {},
     "output_type": "execute_result"
    }
   ],
   "source": [
    "from google.colab import files\n",
    "files.upload()"
   ]
  },
  {
   "cell_type": "code",
   "execution_count": null,
   "metadata": {
    "id": "o4hfFU3w7TYE"
   },
   "outputs": [],
   "source": [
    "import pandas as pd\n",
    "data = pd.read_csv('VFF_merged.csv')"
   ]
  },
  {
   "cell_type": "code",
   "execution_count": null,
   "metadata": {
    "colab": {
     "base_uri": "https://localhost:8080/",
     "height": 206
    },
    "id": "QEqtL5jk7dTv",
    "outputId": "917508d8-c184-4857-c3ac-7ca68d207642"
   },
   "outputs": [
    {
     "data": {
      "text/html": [
       "\n",
       "  <div id=\"df-99c4f622-ee6a-4cd7-b78e-80cca6742ea9\">\n",
       "    <div class=\"colab-df-container\">\n",
       "      <div>\n",
       "<style scoped>\n",
       "    .dataframe tbody tr th:only-of-type {\n",
       "        vertical-align: middle;\n",
       "    }\n",
       "\n",
       "    .dataframe tbody tr th {\n",
       "        vertical-align: top;\n",
       "    }\n",
       "\n",
       "    .dataframe thead th {\n",
       "        text-align: right;\n",
       "    }\n",
       "</style>\n",
       "<table border=\"1\" class=\"dataframe\">\n",
       "  <thead>\n",
       "    <tr style=\"text-align: right;\">\n",
       "      <th></th>\n",
       "      <th>Date</th>\n",
       "      <th>Min Price</th>\n",
       "      <th>Max Price</th>\n",
       "      <th>Modal Price</th>\n",
       "      <th>Date 2</th>\n",
       "      <th>Purchase</th>\n",
       "      <th>Retail Sales</th>\n",
       "      <th>Wholesale</th>\n",
       "      <th>Total Sales</th>\n",
       "    </tr>\n",
       "  </thead>\n",
       "  <tbody>\n",
       "    <tr>\n",
       "      <th>0</th>\n",
       "      <td>01-Apr-15</td>\n",
       "      <td>1000</td>\n",
       "      <td>1,500</td>\n",
       "      <td>1300</td>\n",
       "      <td>01/04/15</td>\n",
       "      <td>42</td>\n",
       "      <td>26</td>\n",
       "      <td>10</td>\n",
       "      <td>36</td>\n",
       "    </tr>\n",
       "    <tr>\n",
       "      <th>1</th>\n",
       "      <td>02-Apr-15</td>\n",
       "      <td>1,000</td>\n",
       "      <td>1500</td>\n",
       "      <td>1,300</td>\n",
       "      <td>02/04/15</td>\n",
       "      <td>47</td>\n",
       "      <td>23</td>\n",
       "      <td>4</td>\n",
       "      <td>27</td>\n",
       "    </tr>\n",
       "    <tr>\n",
       "      <th>2</th>\n",
       "      <td>03-Apr-15</td>\n",
       "      <td>1200</td>\n",
       "      <td>1800</td>\n",
       "      <td>1,600</td>\n",
       "      <td>03/04/15</td>\n",
       "      <td>53</td>\n",
       "      <td>31</td>\n",
       "      <td>26</td>\n",
       "      <td>57</td>\n",
       "    </tr>\n",
       "    <tr>\n",
       "      <th>3</th>\n",
       "      <td>04-Apr-15</td>\n",
       "      <td>1,000</td>\n",
       "      <td>2500</td>\n",
       "      <td>1300</td>\n",
       "      <td>04/04/15</td>\n",
       "      <td>101</td>\n",
       "      <td>41</td>\n",
       "      <td>15</td>\n",
       "      <td>56</td>\n",
       "    </tr>\n",
       "    <tr>\n",
       "      <th>4</th>\n",
       "      <td>06-Apr-15</td>\n",
       "      <td>1,000</td>\n",
       "      <td>1,800</td>\n",
       "      <td>1,500</td>\n",
       "      <td>06/04/15</td>\n",
       "      <td>57</td>\n",
       "      <td>33</td>\n",
       "      <td>5</td>\n",
       "      <td>38</td>\n",
       "    </tr>\n",
       "  </tbody>\n",
       "</table>\n",
       "</div>\n",
       "      <button class=\"colab-df-convert\" onclick=\"convertToInteractive('df-99c4f622-ee6a-4cd7-b78e-80cca6742ea9')\"\n",
       "              title=\"Convert this dataframe to an interactive table.\"\n",
       "              style=\"display:none;\">\n",
       "        \n",
       "  <svg xmlns=\"http://www.w3.org/2000/svg\" height=\"24px\"viewBox=\"0 0 24 24\"\n",
       "       width=\"24px\">\n",
       "    <path d=\"M0 0h24v24H0V0z\" fill=\"none\"/>\n",
       "    <path d=\"M18.56 5.44l.94 2.06.94-2.06 2.06-.94-2.06-.94-.94-2.06-.94 2.06-2.06.94zm-11 1L8.5 8.5l.94-2.06 2.06-.94-2.06-.94L8.5 2.5l-.94 2.06-2.06.94zm10 10l.94 2.06.94-2.06 2.06-.94-2.06-.94-.94-2.06-.94 2.06-2.06.94z\"/><path d=\"M17.41 7.96l-1.37-1.37c-.4-.4-.92-.59-1.43-.59-.52 0-1.04.2-1.43.59L10.3 9.45l-7.72 7.72c-.78.78-.78 2.05 0 2.83L4 21.41c.39.39.9.59 1.41.59.51 0 1.02-.2 1.41-.59l7.78-7.78 2.81-2.81c.8-.78.8-2.07 0-2.86zM5.41 20L4 18.59l7.72-7.72 1.47 1.35L5.41 20z\"/>\n",
       "  </svg>\n",
       "      </button>\n",
       "      \n",
       "  <style>\n",
       "    .colab-df-container {\n",
       "      display:flex;\n",
       "      flex-wrap:wrap;\n",
       "      gap: 12px;\n",
       "    }\n",
       "\n",
       "    .colab-df-convert {\n",
       "      background-color: #E8F0FE;\n",
       "      border: none;\n",
       "      border-radius: 50%;\n",
       "      cursor: pointer;\n",
       "      display: none;\n",
       "      fill: #1967D2;\n",
       "      height: 32px;\n",
       "      padding: 0 0 0 0;\n",
       "      width: 32px;\n",
       "    }\n",
       "\n",
       "    .colab-df-convert:hover {\n",
       "      background-color: #E2EBFA;\n",
       "      box-shadow: 0px 1px 2px rgba(60, 64, 67, 0.3), 0px 1px 3px 1px rgba(60, 64, 67, 0.15);\n",
       "      fill: #174EA6;\n",
       "    }\n",
       "\n",
       "    [theme=dark] .colab-df-convert {\n",
       "      background-color: #3B4455;\n",
       "      fill: #D2E3FC;\n",
       "    }\n",
       "\n",
       "    [theme=dark] .colab-df-convert:hover {\n",
       "      background-color: #434B5C;\n",
       "      box-shadow: 0px 1px 3px 1px rgba(0, 0, 0, 0.15);\n",
       "      filter: drop-shadow(0px 1px 2px rgba(0, 0, 0, 0.3));\n",
       "      fill: #FFFFFF;\n",
       "    }\n",
       "  </style>\n",
       "\n",
       "      <script>\n",
       "        const buttonEl =\n",
       "          document.querySelector('#df-99c4f622-ee6a-4cd7-b78e-80cca6742ea9 button.colab-df-convert');\n",
       "        buttonEl.style.display =\n",
       "          google.colab.kernel.accessAllowed ? 'block' : 'none';\n",
       "\n",
       "        async function convertToInteractive(key) {\n",
       "          const element = document.querySelector('#df-99c4f622-ee6a-4cd7-b78e-80cca6742ea9');\n",
       "          const dataTable =\n",
       "            await google.colab.kernel.invokeFunction('convertToInteractive',\n",
       "                                                     [key], {});\n",
       "          if (!dataTable) return;\n",
       "\n",
       "          const docLinkHtml = 'Like what you see? Visit the ' +\n",
       "            '<a target=\"_blank\" href=https://colab.research.google.com/notebooks/data_table.ipynb>data table notebook</a>'\n",
       "            + ' to learn more about interactive tables.';\n",
       "          element.innerHTML = '';\n",
       "          dataTable['output_type'] = 'display_data';\n",
       "          await google.colab.output.renderOutput(dataTable, element);\n",
       "          const docLink = document.createElement('div');\n",
       "          docLink.innerHTML = docLinkHtml;\n",
       "          element.appendChild(docLink);\n",
       "        }\n",
       "      </script>\n",
       "    </div>\n",
       "  </div>\n",
       "  "
      ],
      "text/plain": [
       "        Date Min Price  Max Price Modal Price    Date 2  Purchase  \\\n",
       "0  01-Apr-15       1000     1,500        1300  01/04/15        42   \n",
       "1  02-Apr-15      1,000      1500       1,300  02/04/15        47   \n",
       "2  03-Apr-15       1200      1800       1,600  03/04/15        53   \n",
       "3  04-Apr-15      1,000      2500        1300  04/04/15       101   \n",
       "4  06-Apr-15      1,000     1,800       1,500  06/04/15        57   \n",
       "\n",
       "   Retail Sales  Wholesale  Total Sales  \n",
       "0            26         10           36  \n",
       "1            23          4           27  \n",
       "2            31         26           57  \n",
       "3            41         15           56  \n",
       "4            33          5           38  "
      ]
     },
     "execution_count": 136,
     "metadata": {},
     "output_type": "execute_result"
    }
   ],
   "source": [
    "data.head()"
   ]
  },
  {
   "cell_type": "code",
   "execution_count": null,
   "metadata": {
    "id": "uw-sjENIKy-A"
   },
   "outputs": [],
   "source": [
    "data['Modal Price'] = data['Modal Price'].str.replace(',','').astype('int')"
   ]
  },
  {
   "cell_type": "markdown",
   "metadata": {
    "id": "F4NUJcaDXhCX"
   },
   "source": [
    "#### Current Wastage"
   ]
  },
  {
   "cell_type": "code",
   "execution_count": null,
   "metadata": {
    "colab": {
     "base_uri": "https://localhost:8080/",
     "height": 206
    },
    "id": "qCg0FApJ7fkn",
    "outputId": "ed766921-1287-4bb5-9b5f-d2d298ba94ad"
   },
   "outputs": [
    {
     "data": {
      "text/html": [
       "\n",
       "  <div id=\"df-2b034c7a-752a-456d-8002-6f041adc0007\">\n",
       "    <div class=\"colab-df-container\">\n",
       "      <div>\n",
       "<style scoped>\n",
       "    .dataframe tbody tr th:only-of-type {\n",
       "        vertical-align: middle;\n",
       "    }\n",
       "\n",
       "    .dataframe tbody tr th {\n",
       "        vertical-align: top;\n",
       "    }\n",
       "\n",
       "    .dataframe thead th {\n",
       "        text-align: right;\n",
       "    }\n",
       "</style>\n",
       "<table border=\"1\" class=\"dataframe\">\n",
       "  <thead>\n",
       "    <tr style=\"text-align: right;\">\n",
       "      <th></th>\n",
       "      <th>Date</th>\n",
       "      <th>Min Price</th>\n",
       "      <th>Max Price</th>\n",
       "      <th>Modal Price</th>\n",
       "      <th>Date 2</th>\n",
       "      <th>Purchase</th>\n",
       "      <th>Retail Sales</th>\n",
       "      <th>Wholesale</th>\n",
       "      <th>Total Sales</th>\n",
       "      <th>Wastage_Current</th>\n",
       "    </tr>\n",
       "  </thead>\n",
       "  <tbody>\n",
       "    <tr>\n",
       "      <th>0</th>\n",
       "      <td>01-Apr-15</td>\n",
       "      <td>1000</td>\n",
       "      <td>1,500</td>\n",
       "      <td>1300</td>\n",
       "      <td>01/04/15</td>\n",
       "      <td>42</td>\n",
       "      <td>26</td>\n",
       "      <td>10</td>\n",
       "      <td>36</td>\n",
       "      <td>6</td>\n",
       "    </tr>\n",
       "    <tr>\n",
       "      <th>1</th>\n",
       "      <td>02-Apr-15</td>\n",
       "      <td>1,000</td>\n",
       "      <td>1500</td>\n",
       "      <td>1300</td>\n",
       "      <td>02/04/15</td>\n",
       "      <td>47</td>\n",
       "      <td>23</td>\n",
       "      <td>4</td>\n",
       "      <td>27</td>\n",
       "      <td>20</td>\n",
       "    </tr>\n",
       "    <tr>\n",
       "      <th>2</th>\n",
       "      <td>03-Apr-15</td>\n",
       "      <td>1200</td>\n",
       "      <td>1800</td>\n",
       "      <td>1600</td>\n",
       "      <td>03/04/15</td>\n",
       "      <td>53</td>\n",
       "      <td>31</td>\n",
       "      <td>26</td>\n",
       "      <td>57</td>\n",
       "      <td>0</td>\n",
       "    </tr>\n",
       "    <tr>\n",
       "      <th>3</th>\n",
       "      <td>04-Apr-15</td>\n",
       "      <td>1,000</td>\n",
       "      <td>2500</td>\n",
       "      <td>1300</td>\n",
       "      <td>04/04/15</td>\n",
       "      <td>101</td>\n",
       "      <td>41</td>\n",
       "      <td>15</td>\n",
       "      <td>56</td>\n",
       "      <td>45</td>\n",
       "    </tr>\n",
       "    <tr>\n",
       "      <th>4</th>\n",
       "      <td>06-Apr-15</td>\n",
       "      <td>1,000</td>\n",
       "      <td>1,800</td>\n",
       "      <td>1500</td>\n",
       "      <td>06/04/15</td>\n",
       "      <td>57</td>\n",
       "      <td>33</td>\n",
       "      <td>5</td>\n",
       "      <td>38</td>\n",
       "      <td>19</td>\n",
       "    </tr>\n",
       "  </tbody>\n",
       "</table>\n",
       "</div>\n",
       "      <button class=\"colab-df-convert\" onclick=\"convertToInteractive('df-2b034c7a-752a-456d-8002-6f041adc0007')\"\n",
       "              title=\"Convert this dataframe to an interactive table.\"\n",
       "              style=\"display:none;\">\n",
       "        \n",
       "  <svg xmlns=\"http://www.w3.org/2000/svg\" height=\"24px\"viewBox=\"0 0 24 24\"\n",
       "       width=\"24px\">\n",
       "    <path d=\"M0 0h24v24H0V0z\" fill=\"none\"/>\n",
       "    <path d=\"M18.56 5.44l.94 2.06.94-2.06 2.06-.94-2.06-.94-.94-2.06-.94 2.06-2.06.94zm-11 1L8.5 8.5l.94-2.06 2.06-.94-2.06-.94L8.5 2.5l-.94 2.06-2.06.94zm10 10l.94 2.06.94-2.06 2.06-.94-2.06-.94-.94-2.06-.94 2.06-2.06.94z\"/><path d=\"M17.41 7.96l-1.37-1.37c-.4-.4-.92-.59-1.43-.59-.52 0-1.04.2-1.43.59L10.3 9.45l-7.72 7.72c-.78.78-.78 2.05 0 2.83L4 21.41c.39.39.9.59 1.41.59.51 0 1.02-.2 1.41-.59l7.78-7.78 2.81-2.81c.8-.78.8-2.07 0-2.86zM5.41 20L4 18.59l7.72-7.72 1.47 1.35L5.41 20z\"/>\n",
       "  </svg>\n",
       "      </button>\n",
       "      \n",
       "  <style>\n",
       "    .colab-df-container {\n",
       "      display:flex;\n",
       "      flex-wrap:wrap;\n",
       "      gap: 12px;\n",
       "    }\n",
       "\n",
       "    .colab-df-convert {\n",
       "      background-color: #E8F0FE;\n",
       "      border: none;\n",
       "      border-radius: 50%;\n",
       "      cursor: pointer;\n",
       "      display: none;\n",
       "      fill: #1967D2;\n",
       "      height: 32px;\n",
       "      padding: 0 0 0 0;\n",
       "      width: 32px;\n",
       "    }\n",
       "\n",
       "    .colab-df-convert:hover {\n",
       "      background-color: #E2EBFA;\n",
       "      box-shadow: 0px 1px 2px rgba(60, 64, 67, 0.3), 0px 1px 3px 1px rgba(60, 64, 67, 0.15);\n",
       "      fill: #174EA6;\n",
       "    }\n",
       "\n",
       "    [theme=dark] .colab-df-convert {\n",
       "      background-color: #3B4455;\n",
       "      fill: #D2E3FC;\n",
       "    }\n",
       "\n",
       "    [theme=dark] .colab-df-convert:hover {\n",
       "      background-color: #434B5C;\n",
       "      box-shadow: 0px 1px 3px 1px rgba(0, 0, 0, 0.15);\n",
       "      filter: drop-shadow(0px 1px 2px rgba(0, 0, 0, 0.3));\n",
       "      fill: #FFFFFF;\n",
       "    }\n",
       "  </style>\n",
       "\n",
       "      <script>\n",
       "        const buttonEl =\n",
       "          document.querySelector('#df-2b034c7a-752a-456d-8002-6f041adc0007 button.colab-df-convert');\n",
       "        buttonEl.style.display =\n",
       "          google.colab.kernel.accessAllowed ? 'block' : 'none';\n",
       "\n",
       "        async function convertToInteractive(key) {\n",
       "          const element = document.querySelector('#df-2b034c7a-752a-456d-8002-6f041adc0007');\n",
       "          const dataTable =\n",
       "            await google.colab.kernel.invokeFunction('convertToInteractive',\n",
       "                                                     [key], {});\n",
       "          if (!dataTable) return;\n",
       "\n",
       "          const docLinkHtml = 'Like what you see? Visit the ' +\n",
       "            '<a target=\"_blank\" href=https://colab.research.google.com/notebooks/data_table.ipynb>data table notebook</a>'\n",
       "            + ' to learn more about interactive tables.';\n",
       "          element.innerHTML = '';\n",
       "          dataTable['output_type'] = 'display_data';\n",
       "          await google.colab.output.renderOutput(dataTable, element);\n",
       "          const docLink = document.createElement('div');\n",
       "          docLink.innerHTML = docLinkHtml;\n",
       "          element.appendChild(docLink);\n",
       "        }\n",
       "      </script>\n",
       "    </div>\n",
       "  </div>\n",
       "  "
      ],
      "text/plain": [
       "        Date Min Price  Max Price  Modal Price    Date 2  Purchase  \\\n",
       "0  01-Apr-15       1000     1,500         1300  01/04/15        42   \n",
       "1  02-Apr-15      1,000      1500         1300  02/04/15        47   \n",
       "2  03-Apr-15       1200      1800         1600  03/04/15        53   \n",
       "3  04-Apr-15      1,000      2500         1300  04/04/15       101   \n",
       "4  06-Apr-15      1,000     1,800         1500  06/04/15        57   \n",
       "\n",
       "   Retail Sales  Wholesale  Total Sales  Wastage_Current  \n",
       "0            26         10           36                6  \n",
       "1            23          4           27               20  \n",
       "2            31         26           57                0  \n",
       "3            41         15           56               45  \n",
       "4            33          5           38               19  "
      ]
     },
     "execution_count": 138,
     "metadata": {},
     "output_type": "execute_result"
    }
   ],
   "source": [
    "import numpy as np\n",
    "data['Wastage_Current'] = np.where((data['Purchase'] - data['Total Sales']) < 0, 0, data['Purchase'] - data['Total Sales'])\n",
    "data.head()"
   ]
  },
  {
   "cell_type": "code",
   "execution_count": null,
   "metadata": {
    "colab": {
     "base_uri": "https://localhost:8080/",
     "height": 448
    },
    "id": "wWcCtpON7qJh",
    "outputId": "019433d3-385f-4da4-b1fd-a43c21acae58"
   },
   "outputs": [
    {
     "data": {
      "text/plain": [
       "<Axes: >"
      ]
     },
     "execution_count": 139,
     "metadata": {},
     "output_type": "execute_result"
    },
    {
     "data": {
      "image/png": "[encoded data removed]",
      "text/plain": [
       "<Figure size 640x480 with 1 Axes>"
      ]
     },
     "metadata": {},
     "output_type": "display_data"
    }
   ],
   "source": [
    "data['Wastage_Current'].hist()"
   ]
  },
  {
   "cell_type": "markdown",
   "metadata": {
    "id": "W-TIATyb8hRK"
   },
   "source": [
    "Fit demand distr to purchase units:\n",
    "\n",
    "Overage cost (not enough demand) = cost - salvage + holding\n",
    "\n",
    "Underage cost (Excess demand) = selling - cost\n",
    "\n",
    "Wastage Distribution 1: Current Purchase Amt - Total Sales"
   ]
  },
  {
   "cell_type": "markdown",
   "metadata": {
    "id": "CoXdV-8u8OGQ"
   },
   "source": [
    "Selling Price $\\in U[20,25]$"
   ]
  },
  {
   "cell_type": "code",
   "execution_count": null,
   "metadata": {
    "colab": {
     "base_uri": "https://localhost:8080/"
    },
    "id": "2-UfLvwH8Lka",
    "outputId": "23e8db81-d3df-4955-d15e-2d2780e9c66e"
   },
   "outputs": [
    {
     "name": "stdout",
     "output_type": "stream",
     "text": [
      "8.58\n",
      "8.92\n",
      "0.49028571428571427\n"
     ]
    }
   ],
   "source": [
    "# Mean_TotalSales = 24.7\n",
    "# SD_TotalSales = 14.2\n",
    "Mean_Purchase = round(np.mean(data['Purchase']),1)\n",
    "SD_Purchase = round(np.std(data['Purchase']),1)\n",
    "Selling_Price1 = 22.5\n",
    "Salvage_Price = 5\n",
    "Mean_Cost = 13.92\n",
    "\n",
    "CU1 = Selling_Price1 - Mean_Cost\n",
    "CO1 = Mean_Cost - Salvage_Price\n",
    "print(CU1)\n",
    "print(CO1)\n",
    "CR1 = CU1/(CU1 + CO1)\n",
    "print(CR1)\n",
    "Z_Score1 = -0.025"
   ]
  },
  {
   "cell_type": "code",
   "execution_count": null,
   "metadata": {
    "id": "j5DgSZK2_pol"
   },
   "outputs": [],
   "source": [
    "from scipy.stats import norm\n",
    "def predict_demand(mean_demand,sd_demand,cu,co):\n",
    "  return sd_demand*(norm.ppf(cu/(cu+co))) + mean_demand"
   ]
  },
  {
   "cell_type": "markdown",
   "metadata": {
    "id": "-PfkgJu1IeLs"
   },
   "source": [
    "#### NewsVendor1"
   ]
  },
  {
   "cell_type": "code",
   "execution_count": null,
   "metadata": {
    "colab": {
     "base_uri": "https://localhost:8080/",
     "height": 206
    },
    "id": "xVaA_T5wAKfe",
    "outputId": "aa3a81ad-ef75-47bb-8274-6067b69874f2"
   },
   "outputs": [
    {
     "data": {
      "text/html": [
       "\n",
       "  <div id=\"df-6156bc7b-1a4a-4b7a-a72f-26b1cc7714bd\">\n",
       "    <div class=\"colab-df-container\">\n",
       "      <div>\n",
       "<style scoped>\n",
       "    .dataframe tbody tr th:only-of-type {\n",
       "        vertical-align: middle;\n",
       "    }\n",
       "\n",
       "    .dataframe tbody tr th {\n",
       "        vertical-align: top;\n",
       "    }\n",
       "\n",
       "    .dataframe thead th {\n",
       "        text-align: right;\n",
       "    }\n",
       "</style>\n",
       "<table border=\"1\" class=\"dataframe\">\n",
       "  <thead>\n",
       "    <tr style=\"text-align: right;\">\n",
       "      <th></th>\n",
       "      <th>Date</th>\n",
       "      <th>Min Price</th>\n",
       "      <th>Max Price</th>\n",
       "      <th>Modal Price</th>\n",
       "      <th>Date 2</th>\n",
       "      <th>Purchase</th>\n",
       "      <th>Retail Sales</th>\n",
       "      <th>Wholesale</th>\n",
       "      <th>Total Sales</th>\n",
       "      <th>Wastage_Current</th>\n",
       "      <th>Newsvendor_Model1</th>\n",
       "      <th>Wastage1</th>\n",
       "    </tr>\n",
       "  </thead>\n",
       "  <tbody>\n",
       "    <tr>\n",
       "      <th>0</th>\n",
       "      <td>01-Apr-15</td>\n",
       "      <td>1000</td>\n",
       "      <td>1,500</td>\n",
       "      <td>1300</td>\n",
       "      <td>01/04/15</td>\n",
       "      <td>42</td>\n",
       "      <td>26</td>\n",
       "      <td>10</td>\n",
       "      <td>36</td>\n",
       "      <td>6</td>\n",
       "      <td>47.64</td>\n",
       "      <td>11.64</td>\n",
       "    </tr>\n",
       "    <tr>\n",
       "      <th>1</th>\n",
       "      <td>02-Apr-15</td>\n",
       "      <td>1,000</td>\n",
       "      <td>1500</td>\n",
       "      <td>1300</td>\n",
       "      <td>02/04/15</td>\n",
       "      <td>47</td>\n",
       "      <td>23</td>\n",
       "      <td>4</td>\n",
       "      <td>27</td>\n",
       "      <td>20</td>\n",
       "      <td>47.64</td>\n",
       "      <td>20.64</td>\n",
       "    </tr>\n",
       "    <tr>\n",
       "      <th>2</th>\n",
       "      <td>03-Apr-15</td>\n",
       "      <td>1200</td>\n",
       "      <td>1800</td>\n",
       "      <td>1600</td>\n",
       "      <td>03/04/15</td>\n",
       "      <td>53</td>\n",
       "      <td>31</td>\n",
       "      <td>26</td>\n",
       "      <td>57</td>\n",
       "      <td>0</td>\n",
       "      <td>47.64</td>\n",
       "      <td>0.00</td>\n",
       "    </tr>\n",
       "    <tr>\n",
       "      <th>3</th>\n",
       "      <td>04-Apr-15</td>\n",
       "      <td>1,000</td>\n",
       "      <td>2500</td>\n",
       "      <td>1300</td>\n",
       "      <td>04/04/15</td>\n",
       "      <td>101</td>\n",
       "      <td>41</td>\n",
       "      <td>15</td>\n",
       "      <td>56</td>\n",
       "      <td>45</td>\n",
       "      <td>47.64</td>\n",
       "      <td>0.00</td>\n",
       "    </tr>\n",
       "    <tr>\n",
       "      <th>4</th>\n",
       "      <td>06-Apr-15</td>\n",
       "      <td>1,000</td>\n",
       "      <td>1,800</td>\n",
       "      <td>1500</td>\n",
       "      <td>06/04/15</td>\n",
       "      <td>57</td>\n",
       "      <td>33</td>\n",
       "      <td>5</td>\n",
       "      <td>38</td>\n",
       "      <td>19</td>\n",
       "      <td>47.64</td>\n",
       "      <td>9.64</td>\n",
       "    </tr>\n",
       "  </tbody>\n",
       "</table>\n",
       "</div>\n",
       "      <button class=\"colab-df-convert\" onclick=\"convertToInteractive('df-6156bc7b-1a4a-4b7a-a72f-26b1cc7714bd')\"\n",
       "              title=\"Convert this dataframe to an interactive table.\"\n",
       "              style=\"display:none;\">\n",
       "        \n",
       "  <svg xmlns=\"http://www.w3.org/2000/svg\" height=\"24px\"viewBox=\"0 0 24 24\"\n",
       "       width=\"24px\">\n",
       "    <path d=\"M0 0h24v24H0V0z\" fill=\"none\"/>\n",
       "    <path d=\"M18.56 5.44l.94 2.06.94-2.06 2.06-.94-2.06-.94-.94-2.06-.94 2.06-2.06.94zm-11 1L8.5 8.5l.94-2.06 2.06-.94-2.06-.94L8.5 2.5l-.94 2.06-2.06.94zm10 10l.94 2.06.94-2.06 2.06-.94-2.06-.94-.94-2.06-.94 2.06-2.06.94z\"/><path d=\"M17.41 7.96l-1.37-1.37c-.4-.4-.92-.59-1.43-.59-.52 0-1.04.2-1.43.59L10.3 9.45l-7.72 7.72c-.78.78-.78 2.05 0 2.83L4 21.41c.39.39.9.59 1.41.59.51 0 1.02-.2 1.41-.59l7.78-7.78 2.81-2.81c.8-.78.8-2.07 0-2.86zM5.41 20L4 18.59l7.72-7.72 1.47 1.35L5.41 20z\"/>\n",
       "  </svg>\n",
       "      </button>\n",
       "      \n",
       "  <style>\n",
       "    .colab-df-container {\n",
       "      display:flex;\n",
       "      flex-wrap:wrap;\n",
       "      gap: 12px;\n",
       "    }\n",
       "\n",
       "    .colab-df-convert {\n",
       "      background-color: #E8F0FE;\n",
       "      border: none;\n",
       "      border-radius: 50%;\n",
       "      cursor: pointer;\n",
       "      display: none;\n",
       "      fill: #1967D2;\n",
       "      height: 32px;\n",
       "      padding: 0 0 0 0;\n",
       "      width: 32px;\n",
       "    }\n",
       "\n",
       "    .colab-df-convert:hover {\n",
       "      background-color: #E2EBFA;\n",
       "      box-shadow: 0px 1px 2px rgba(60, 64, 67, 0.3), 0px 1px 3px 1px rgba(60, 64, 67, 0.15);\n",
       "      fill: #174EA6;\n",
       "    }\n",
       "\n",
       "    [theme=dark] .colab-df-convert {\n",
       "      background-color: #3B4455;\n",
       "      fill: #D2E3FC;\n",
       "    }\n",
       "\n",
       "    [theme=dark] .colab-df-convert:hover {\n",
       "      background-color: #434B5C;\n",
       "      box-shadow: 0px 1px 3px 1px rgba(0, 0, 0, 0.15);\n",
       "      filter: drop-shadow(0px 1px 2px rgba(0, 0, 0, 0.3));\n",
       "      fill: #FFFFFF;\n",
       "    }\n",
       "  </style>\n",
       "\n",
       "      <script>\n",
       "        const buttonEl =\n",
       "          document.querySelector('#df-6156bc7b-1a4a-4b7a-a72f-26b1cc7714bd button.colab-df-convert');\n",
       "        buttonEl.style.display =\n",
       "          google.colab.kernel.accessAllowed ? 'block' : 'none';\n",
       "\n",
       "        async function convertToInteractive(key) {\n",
       "          const element = document.querySelector('#df-6156bc7b-1a4a-4b7a-a72f-26b1cc7714bd');\n",
       "          const dataTable =\n",
       "            await google.colab.kernel.invokeFunction('convertToInteractive',\n",
       "                                                     [key], {});\n",
       "          if (!dataTable) return;\n",
       "\n",
       "          const docLinkHtml = 'Like what you see? Visit the ' +\n",
       "            '<a target=\"_blank\" href=https://colab.research.google.com/notebooks/data_table.ipynb>data table notebook</a>'\n",
       "            + ' to learn more about interactive tables.';\n",
       "          element.innerHTML = '';\n",
       "          dataTable['output_type'] = 'display_data';\n",
       "          await google.colab.output.renderOutput(dataTable, element);\n",
       "          const docLink = document.createElement('div');\n",
       "          docLink.innerHTML = docLinkHtml;\n",
       "          element.appendChild(docLink);\n",
       "        }\n",
       "      </script>\n",
       "    </div>\n",
       "  </div>\n",
       "  "
      ],
      "text/plain": [
       "        Date Min Price  Max Price  Modal Price    Date 2  Purchase  \\\n",
       "0  01-Apr-15       1000     1,500         1300  01/04/15        42   \n",
       "1  02-Apr-15      1,000      1500         1300  02/04/15        47   \n",
       "2  03-Apr-15       1200      1800         1600  03/04/15        53   \n",
       "3  04-Apr-15      1,000      2500         1300  04/04/15       101   \n",
       "4  06-Apr-15      1,000     1,800         1500  06/04/15        57   \n",
       "\n",
       "   Retail Sales  Wholesale  Total Sales  Wastage_Current  Newsvendor_Model1  \\\n",
       "0            26         10           36                6              47.64   \n",
       "1            23          4           27               20              47.64   \n",
       "2            31         26           57                0              47.64   \n",
       "3            41         15           56               45              47.64   \n",
       "4            33          5           38               19              47.64   \n",
       "\n",
       "   Wastage1  \n",
       "0     11.64  \n",
       "1     20.64  \n",
       "2      0.00  \n",
       "3      0.00  \n",
       "4      9.64  "
      ]
     },
     "execution_count": 142,
     "metadata": {},
     "output_type": "execute_result"
    }
   ],
   "source": [
    "data['Newsvendor_Model1'] = round(predict_demand(Mean_Purchase,SD_Purchase,CU1,CO1),2)\n",
    "data['Wastage1'] = np.where(data['Newsvendor_Model1'] - data['Total Sales'] < 0, 0, data['Newsvendor_Model1'] - data['Total Sales'] )\n",
    "data.head()"
   ]
  },
  {
   "cell_type": "code",
   "execution_count": null,
   "metadata": {
    "colab": {
     "base_uri": "https://localhost:8080/",
     "height": 448
    },
    "id": "Ek-ng-k5PvdT",
    "outputId": "a78a5ceb-f861-4814-c7a9-1188eb0f57b7"
   },
   "outputs": [
    {
     "data": {
      "text/plain": [
       "<Axes: >"
      ]
     },
     "execution_count": 143,
     "metadata": {},
     "output_type": "execute_result"
    },
    {
     "data": {
      "image/png": "[encoded data removed]",
      "text/plain": [
       "<Figure size 640x480 with 1 Axes>"
      ]
     },
     "metadata": {},
     "output_type": "display_data"
    }
   ],
   "source": [
    "data['Wastage1'].hist()"
   ]
  },
  {
   "cell_type": "code",
   "execution_count": null,
   "metadata": {
    "colab": {
     "base_uri": "https://localhost:8080/",
     "height": 354
    },
    "id": "iE7Pww2mAoGZ",
    "outputId": "a2152a69-8973-474f-8ecc-e0a9d4b3d814"
   },
   "outputs": [
    {
     "data": {
      "text/html": [
       "\n",
       "  <div id=\"df-04f378f3-a7c2-42b6-9d18-d2735392803d\">\n",
       "    <div class=\"colab-df-container\">\n",
       "      <div>\n",
       "<style scoped>\n",
       "    .dataframe tbody tr th:only-of-type {\n",
       "        vertical-align: middle;\n",
       "    }\n",
       "\n",
       "    .dataframe tbody tr th {\n",
       "        vertical-align: top;\n",
       "    }\n",
       "\n",
       "    .dataframe thead th {\n",
       "        text-align: right;\n",
       "    }\n",
       "</style>\n",
       "<table border=\"1\" class=\"dataframe\">\n",
       "  <thead>\n",
       "    <tr style=\"text-align: right;\">\n",
       "      <th></th>\n",
       "      <th>Date</th>\n",
       "      <th>Min Price</th>\n",
       "      <th>Max Price</th>\n",
       "      <th>Modal Price</th>\n",
       "      <th>Date 2</th>\n",
       "      <th>Purchase</th>\n",
       "      <th>Retail Sales</th>\n",
       "      <th>Wholesale</th>\n",
       "      <th>Total Sales</th>\n",
       "      <th>Wastage_Current</th>\n",
       "      <th>Newsvendor_Model1</th>\n",
       "      <th>Wastage1</th>\n",
       "      <th>SellingPrice_daily_modeled</th>\n",
       "    </tr>\n",
       "  </thead>\n",
       "  <tbody>\n",
       "    <tr>\n",
       "      <th>0</th>\n",
       "      <td>01-Apr-15</td>\n",
       "      <td>1000</td>\n",
       "      <td>1,500</td>\n",
       "      <td>1300</td>\n",
       "      <td>01/04/15</td>\n",
       "      <td>42</td>\n",
       "      <td>26</td>\n",
       "      <td>10</td>\n",
       "      <td>36</td>\n",
       "      <td>6</td>\n",
       "      <td>47.64</td>\n",
       "      <td>11.64</td>\n",
       "      <td>23.17</td>\n",
       "    </tr>\n",
       "    <tr>\n",
       "      <th>1</th>\n",
       "      <td>02-Apr-15</td>\n",
       "      <td>1,000</td>\n",
       "      <td>1500</td>\n",
       "      <td>1300</td>\n",
       "      <td>02/04/15</td>\n",
       "      <td>47</td>\n",
       "      <td>23</td>\n",
       "      <td>4</td>\n",
       "      <td>27</td>\n",
       "      <td>20</td>\n",
       "      <td>47.64</td>\n",
       "      <td>20.64</td>\n",
       "      <td>24.49</td>\n",
       "    </tr>\n",
       "    <tr>\n",
       "      <th>2</th>\n",
       "      <td>03-Apr-15</td>\n",
       "      <td>1200</td>\n",
       "      <td>1800</td>\n",
       "      <td>1600</td>\n",
       "      <td>03/04/15</td>\n",
       "      <td>53</td>\n",
       "      <td>31</td>\n",
       "      <td>26</td>\n",
       "      <td>57</td>\n",
       "      <td>0</td>\n",
       "      <td>47.64</td>\n",
       "      <td>0.00</td>\n",
       "      <td>20.93</td>\n",
       "    </tr>\n",
       "    <tr>\n",
       "      <th>3</th>\n",
       "      <td>04-Apr-15</td>\n",
       "      <td>1,000</td>\n",
       "      <td>2500</td>\n",
       "      <td>1300</td>\n",
       "      <td>04/04/15</td>\n",
       "      <td>101</td>\n",
       "      <td>41</td>\n",
       "      <td>15</td>\n",
       "      <td>56</td>\n",
       "      <td>45</td>\n",
       "      <td>47.64</td>\n",
       "      <td>0.00</td>\n",
       "      <td>20.95</td>\n",
       "    </tr>\n",
       "    <tr>\n",
       "      <th>4</th>\n",
       "      <td>06-Apr-15</td>\n",
       "      <td>1,000</td>\n",
       "      <td>1,800</td>\n",
       "      <td>1500</td>\n",
       "      <td>06/04/15</td>\n",
       "      <td>57</td>\n",
       "      <td>33</td>\n",
       "      <td>5</td>\n",
       "      <td>38</td>\n",
       "      <td>19</td>\n",
       "      <td>47.64</td>\n",
       "      <td>9.64</td>\n",
       "      <td>22.64</td>\n",
       "    </tr>\n",
       "  </tbody>\n",
       "</table>\n",
       "</div>\n",
       "      <button class=\"colab-df-convert\" onclick=\"convertToInteractive('df-04f378f3-a7c2-42b6-9d18-d2735392803d')\"\n",
       "              title=\"Convert this dataframe to an interactive table.\"\n",
       "              style=\"display:none;\">\n",
       "        \n",
       "  <svg xmlns=\"http://www.w3.org/2000/svg\" height=\"24px\"viewBox=\"0 0 24 24\"\n",
       "       width=\"24px\">\n",
       "    <path d=\"M0 0h24v24H0V0z\" fill=\"none\"/>\n",
       "    <path d=\"M18.56 5.44l.94 2.06.94-2.06 2.06-.94-2.06-.94-.94-2.06-.94 2.06-2.06.94zm-11 1L8.5 8.5l.94-2.06 2.06-.94-2.06-.94L8.5 2.5l-.94 2.06-2.06.94zm10 10l.94 2.06.94-2.06 2.06-.94-2.06-.94-.94-2.06-.94 2.06-2.06.94z\"/><path d=\"M17.41 7.96l-1.37-1.37c-.4-.4-.92-.59-1.43-.59-.52 0-1.04.2-1.43.59L10.3 9.45l-7.72 7.72c-.78.78-.78 2.05 0 2.83L4 21.41c.39.39.9.59 1.41.59.51 0 1.02-.2 1.41-.59l7.78-7.78 2.81-2.81c.8-.78.8-2.07 0-2.86zM5.41 20L4 18.59l7.72-7.72 1.47 1.35L5.41 20z\"/>\n",
       "  </svg>\n",
       "      </button>\n",
       "      \n",
       "  <style>\n",
       "    .colab-df-container {\n",
       "      display:flex;\n",
       "      flex-wrap:wrap;\n",
       "      gap: 12px;\n",
       "    }\n",
       "\n",
       "    .colab-df-convert {\n",
       "      background-color: #E8F0FE;\n",
       "      border: none;\n",
       "      border-radius: 50%;\n",
       "      cursor: pointer;\n",
       "      display: none;\n",
       "      fill: #1967D2;\n",
       "      height: 32px;\n",
       "      padding: 0 0 0 0;\n",
       "      width: 32px;\n",
       "    }\n",
       "\n",
       "    .colab-df-convert:hover {\n",
       "      background-color: #E2EBFA;\n",
       "      box-shadow: 0px 1px 2px rgba(60, 64, 67, 0.3), 0px 1px 3px 1px rgba(60, 64, 67, 0.15);\n",
       "      fill: #174EA6;\n",
       "    }\n",
       "\n",
       "    [theme=dark] .colab-df-convert {\n",
       "      background-color: #3B4455;\n",
       "      fill: #D2E3FC;\n",
       "    }\n",
       "\n",
       "    [theme=dark] .colab-df-convert:hover {\n",
       "      background-color: #434B5C;\n",
       "      box-shadow: 0px 1px 3px 1px rgba(0, 0, 0, 0.15);\n",
       "      filter: drop-shadow(0px 1px 2px rgba(0, 0, 0, 0.3));\n",
       "      fill: #FFFFFF;\n",
       "    }\n",
       "  </style>\n",
       "\n",
       "      <script>\n",
       "        const buttonEl =\n",
       "          document.querySelector('#df-04f378f3-a7c2-42b6-9d18-d2735392803d button.colab-df-convert');\n",
       "        buttonEl.style.display =\n",
       "          google.colab.kernel.accessAllowed ? 'block' : 'none';\n",
       "\n",
       "        async function convertToInteractive(key) {\n",
       "          const element = document.querySelector('#df-04f378f3-a7c2-42b6-9d18-d2735392803d');\n",
       "          const dataTable =\n",
       "            await google.colab.kernel.invokeFunction('convertToInteractive',\n",
       "                                                     [key], {});\n",
       "          if (!dataTable) return;\n",
       "\n",
       "          const docLinkHtml = 'Like what you see? Visit the ' +\n",
       "            '<a target=\"_blank\" href=https://colab.research.google.com/notebooks/data_table.ipynb>data table notebook</a>'\n",
       "            + ' to learn more about interactive tables.';\n",
       "          element.innerHTML = '';\n",
       "          dataTable['output_type'] = 'display_data';\n",
       "          await google.colab.output.renderOutput(dataTable, element);\n",
       "          const docLink = document.createElement('div');\n",
       "          docLink.innerHTML = docLinkHtml;\n",
       "          element.appendChild(docLink);\n",
       "        }\n",
       "      </script>\n",
       "    </div>\n",
       "  </div>\n",
       "  "
      ],
      "text/plain": [
       "        Date Min Price  Max Price  Modal Price    Date 2  Purchase  \\\n",
       "0  01-Apr-15       1000     1,500         1300  01/04/15        42   \n",
       "1  02-Apr-15      1,000      1500         1300  02/04/15        47   \n",
       "2  03-Apr-15       1200      1800         1600  03/04/15        53   \n",
       "3  04-Apr-15      1,000      2500         1300  04/04/15       101   \n",
       "4  06-Apr-15      1,000     1,800         1500  06/04/15        57   \n",
       "\n",
       "   Retail Sales  Wholesale  Total Sales  Wastage_Current  Newsvendor_Model1  \\\n",
       "0            26         10           36                6              47.64   \n",
       "1            23          4           27               20              47.64   \n",
       "2            31         26           57                0              47.64   \n",
       "3            41         15           56               45              47.64   \n",
       "4            33          5           38               19              47.64   \n",
       "\n",
       "   Wastage1  SellingPrice_daily_modeled  \n",
       "0     11.64                       23.17  \n",
       "1     20.64                       24.49  \n",
       "2      0.00                       20.93  \n",
       "3      0.00                       20.95  \n",
       "4      9.64                       22.64  "
      ]
     },
     "execution_count": 144,
     "metadata": {},
     "output_type": "execute_result"
    }
   ],
   "source": [
    "Selling_Price_daily_distr = np.round(np.random.uniform(20,25,len(data['Date'])),2)\n",
    "data['SellingPrice_daily_modeled'] = Selling_Price_daily_distr\n",
    "data.head()"
   ]
  },
  {
   "cell_type": "markdown",
   "metadata": {
    "id": "_1WXk6hdInd2"
   },
   "source": [
    "#### NewsVendor2"
   ]
  },
  {
   "cell_type": "code",
   "execution_count": null,
   "metadata": {
    "id": "VbgEgqXqcPGj"
   },
   "outputs": [],
   "source": [
    "Newsvendor_Model2 = []\n",
    "Wastage2 = []\n",
    "\n",
    "for index, row in data.iterrows():\n",
    "    CU = row['SellingPrice_daily_modeled'] - (row['Modal Price']/100)\n",
    "    CO = (row['Modal Price']/100) - 5\n",
    "    CR = CU/(CU+CO)\n",
    "    model2_value = round(SD_Purchase*norm.ppf(CR) + Mean_Purchase,2)\n",
    "    Newsvendor_Model2.append(model2_value)\n",
    "    wastage2_value = round(max(0, model2_value - row['Total Sales']),2)\n",
    "    Wastage2.append(wastage2_value)\n",
    "\n",
    "# Add the lists as new columns in the DataFrame\n",
    "data['Newsvendor_Model2'] = Newsvendor_Model2\n",
    "data['Wastage2'] = Wastage2"
   ]
  },
  {
   "cell_type": "code",
   "execution_count": null,
   "metadata": {
    "colab": {
     "base_uri": "https://localhost:8080/",
     "height": 461
    },
    "id": "cw9gFCFmcclj",
    "outputId": "c2cbe1dd-deea-42e0-bae5-94430f6b6010"
   },
   "outputs": [
    {
     "data": {
      "text/html": [
       "\n",
       "  <div id=\"df-ddf3c0fb-db4a-4d25-a033-0302d0fe24dc\">\n",
       "    <div class=\"colab-df-container\">\n",
       "      <div>\n",
       "<style scoped>\n",
       "    .dataframe tbody tr th:only-of-type {\n",
       "        vertical-align: middle;\n",
       "    }\n",
       "\n",
       "    .dataframe tbody tr th {\n",
       "        vertical-align: top;\n",
       "    }\n",
       "\n",
       "    .dataframe thead th {\n",
       "        text-align: right;\n",
       "    }\n",
       "</style>\n",
       "<table border=\"1\" class=\"dataframe\">\n",
       "  <thead>\n",
       "    <tr style=\"text-align: right;\">\n",
       "      <th></th>\n",
       "      <th>Date</th>\n",
       "      <th>Min Price</th>\n",
       "      <th>Max Price</th>\n",
       "      <th>Modal Price</th>\n",
       "      <th>Date 2</th>\n",
       "      <th>Purchase</th>\n",
       "      <th>Retail Sales</th>\n",
       "      <th>Wholesale</th>\n",
       "      <th>Total Sales</th>\n",
       "      <th>Wastage_Current</th>\n",
       "      <th>Newsvendor_Model1</th>\n",
       "      <th>Wastage1</th>\n",
       "      <th>SellingPrice_daily_modeled</th>\n",
       "      <th>Newsvendor_Model2</th>\n",
       "      <th>Wastage2</th>\n",
       "    </tr>\n",
       "  </thead>\n",
       "  <tbody>\n",
       "    <tr>\n",
       "      <th>0</th>\n",
       "      <td>01-Apr-15</td>\n",
       "      <td>1000</td>\n",
       "      <td>1,500</td>\n",
       "      <td>1300</td>\n",
       "      <td>01/04/15</td>\n",
       "      <td>42</td>\n",
       "      <td>26</td>\n",
       "      <td>10</td>\n",
       "      <td>36</td>\n",
       "      <td>6</td>\n",
       "      <td>47.64</td>\n",
       "      <td>11.64</td>\n",
       "      <td>23.17</td>\n",
       "      <td>51.63</td>\n",
       "      <td>15.63</td>\n",
       "    </tr>\n",
       "    <tr>\n",
       "      <th>1</th>\n",
       "      <td>02-Apr-15</td>\n",
       "      <td>1,000</td>\n",
       "      <td>1500</td>\n",
       "      <td>1300</td>\n",
       "      <td>02/04/15</td>\n",
       "      <td>47</td>\n",
       "      <td>23</td>\n",
       "      <td>4</td>\n",
       "      <td>27</td>\n",
       "      <td>20</td>\n",
       "      <td>47.64</td>\n",
       "      <td>20.64</td>\n",
       "      <td>24.49</td>\n",
       "      <td>53.36</td>\n",
       "      <td>26.36</td>\n",
       "    </tr>\n",
       "    <tr>\n",
       "      <th>2</th>\n",
       "      <td>03-Apr-15</td>\n",
       "      <td>1200</td>\n",
       "      <td>1800</td>\n",
       "      <td>1600</td>\n",
       "      <td>03/04/15</td>\n",
       "      <td>53</td>\n",
       "      <td>31</td>\n",
       "      <td>26</td>\n",
       "      <td>57</td>\n",
       "      <td>0</td>\n",
       "      <td>47.64</td>\n",
       "      <td>0.00</td>\n",
       "      <td>20.93</td>\n",
       "      <td>36.86</td>\n",
       "      <td>0.00</td>\n",
       "    </tr>\n",
       "    <tr>\n",
       "      <th>3</th>\n",
       "      <td>04-Apr-15</td>\n",
       "      <td>1,000</td>\n",
       "      <td>2500</td>\n",
       "      <td>1300</td>\n",
       "      <td>04/04/15</td>\n",
       "      <td>101</td>\n",
       "      <td>41</td>\n",
       "      <td>15</td>\n",
       "      <td>56</td>\n",
       "      <td>45</td>\n",
       "      <td>47.64</td>\n",
       "      <td>0.00</td>\n",
       "      <td>20.95</td>\n",
       "      <td>48.11</td>\n",
       "      <td>0.00</td>\n",
       "    </tr>\n",
       "    <tr>\n",
       "      <th>4</th>\n",
       "      <td>06-Apr-15</td>\n",
       "      <td>1,000</td>\n",
       "      <td>1,800</td>\n",
       "      <td>1500</td>\n",
       "      <td>06/04/15</td>\n",
       "      <td>57</td>\n",
       "      <td>33</td>\n",
       "      <td>5</td>\n",
       "      <td>38</td>\n",
       "      <td>19</td>\n",
       "      <td>47.64</td>\n",
       "      <td>9.64</td>\n",
       "      <td>22.64</td>\n",
       "      <td>44.36</td>\n",
       "      <td>6.36</td>\n",
       "    </tr>\n",
       "  </tbody>\n",
       "</table>\n",
       "</div>\n",
       "      <button class=\"colab-df-convert\" onclick=\"convertToInteractive('df-ddf3c0fb-db4a-4d25-a033-0302d0fe24dc')\"\n",
       "              title=\"Convert this dataframe to an interactive table.\"\n",
       "              style=\"display:none;\">\n",
       "        \n",
       "  <svg xmlns=\"http://www.w3.org/2000/svg\" height=\"24px\"viewBox=\"0 0 24 24\"\n",
       "       width=\"24px\">\n",
       "    <path d=\"M0 0h24v24H0V0z\" fill=\"none\"/>\n",
       "    <path d=\"M18.56 5.44l.94 2.06.94-2.06 2.06-.94-2.06-.94-.94-2.06-.94 2.06-2.06.94zm-11 1L8.5 8.5l.94-2.06 2.06-.94-2.06-.94L8.5 2.5l-.94 2.06-2.06.94zm10 10l.94 2.06.94-2.06 2.06-.94-2.06-.94-.94-2.06-.94 2.06-2.06.94z\"/><path d=\"M17.41 7.96l-1.37-1.37c-.4-.4-.92-.59-1.43-.59-.52 0-1.04.2-1.43.59L10.3 9.45l-7.72 7.72c-.78.78-.78 2.05 0 2.83L4 21.41c.39.39.9.59 1.41.59.51 0 1.02-.2 1.41-.59l7.78-7.78 2.81-2.81c.8-.78.8-2.07 0-2.86zM5.41 20L4 18.59l7.72-7.72 1.47 1.35L5.41 20z\"/>\n",
       "  </svg>\n",
       "      </button>\n",
       "      \n",
       "  <style>\n",
       "    .colab-df-container {\n",
       "      display:flex;\n",
       "      flex-wrap:wrap;\n",
       "      gap: 12px;\n",
       "    }\n",
       "\n",
       "    .colab-df-convert {\n",
       "      background-color: #E8F0FE;\n",
       "      border: none;\n",
       "      border-radius: 50%;\n",
       "      cursor: pointer;\n",
       "      display: none;\n",
       "      fill: #1967D2;\n",
       "      height: 32px;\n",
       "      padding: 0 0 0 0;\n",
       "      width: 32px;\n",
       "    }\n",
       "\n",
       "    .colab-df-convert:hover {\n",
       "      background-color: #E2EBFA;\n",
       "      box-shadow: 0px 1px 2px rgba(60, 64, 67, 0.3), 0px 1px 3px 1px rgba(60, 64, 67, 0.15);\n",
       "      fill: #174EA6;\n",
       "    }\n",
       "\n",
       "    [theme=dark] .colab-df-convert {\n",
       "      background-color: #3B4455;\n",
       "      fill: #D2E3FC;\n",
       "    }\n",
       "\n",
       "    [theme=dark] .colab-df-convert:hover {\n",
       "      background-color: #434B5C;\n",
       "      box-shadow: 0px 1px 3px 1px rgba(0, 0, 0, 0.15);\n",
       "      filter: drop-shadow(0px 1px 2px rgba(0, 0, 0, 0.3));\n",
       "      fill: #FFFFFF;\n",
       "    }\n",
       "  </style>\n",
       "\n",
       "      <script>\n",
       "        const buttonEl =\n",
       "          document.querySelector('#df-ddf3c0fb-db4a-4d25-a033-0302d0fe24dc button.colab-df-convert');\n",
       "        buttonEl.style.display =\n",
       "          google.colab.kernel.accessAllowed ? 'block' : 'none';\n",
       "\n",
       "        async function convertToInteractive(key) {\n",
       "          const element = document.querySelector('#df-ddf3c0fb-db4a-4d25-a033-0302d0fe24dc');\n",
       "          const dataTable =\n",
       "            await google.colab.kernel.invokeFunction('convertToInteractive',\n",
       "                                                     [key], {});\n",
       "          if (!dataTable) return;\n",
       "\n",
       "          const docLinkHtml = 'Like what you see? Visit the ' +\n",
       "            '<a target=\"_blank\" href=https://colab.research.google.com/notebooks/data_table.ipynb>data table notebook</a>'\n",
       "            + ' to learn more about interactive tables.';\n",
       "          element.innerHTML = '';\n",
       "          dataTable['output_type'] = 'display_data';\n",
       "          await google.colab.output.renderOutput(dataTable, element);\n",
       "          const docLink = document.createElement('div');\n",
       "          docLink.innerHTML = docLinkHtml;\n",
       "          element.appendChild(docLink);\n",
       "        }\n",
       "      </script>\n",
       "    </div>\n",
       "  </div>\n",
       "  "
      ],
      "text/plain": [
       "        Date Min Price  Max Price  Modal Price    Date 2  Purchase  \\\n",
       "0  01-Apr-15       1000     1,500         1300  01/04/15        42   \n",
       "1  02-Apr-15      1,000      1500         1300  02/04/15        47   \n",
       "2  03-Apr-15       1200      1800         1600  03/04/15        53   \n",
       "3  04-Apr-15      1,000      2500         1300  04/04/15       101   \n",
       "4  06-Apr-15      1,000     1,800         1500  06/04/15        57   \n",
       "\n",
       "   Retail Sales  Wholesale  Total Sales  Wastage_Current  Newsvendor_Model1  \\\n",
       "0            26         10           36                6              47.64   \n",
       "1            23          4           27               20              47.64   \n",
       "2            31         26           57                0              47.64   \n",
       "3            41         15           56               45              47.64   \n",
       "4            33          5           38               19              47.64   \n",
       "\n",
       "   Wastage1  SellingPrice_daily_modeled  Newsvendor_Model2  Wastage2  \n",
       "0     11.64                       23.17              51.63     15.63  \n",
       "1     20.64                       24.49              53.36     26.36  \n",
       "2      0.00                       20.93              36.86      0.00  \n",
       "3      0.00                       20.95              48.11      0.00  \n",
       "4      9.64                       22.64              44.36      6.36  "
      ]
     },
     "execution_count": 146,
     "metadata": {},
     "output_type": "execute_result"
    }
   ],
   "source": [
    "data.head()"
   ]
  },
  {
   "cell_type": "code",
   "execution_count": null,
   "metadata": {
    "colab": {
     "base_uri": "https://localhost:8080/",
     "height": 448
    },
    "id": "cjhs3z-KOxnO",
    "outputId": "d834908b-ceac-4f5a-aa70-33d715ac36a9"
   },
   "outputs": [
    {
     "data": {
      "text/plain": [
       "<Axes: >"
      ]
     },
     "execution_count": 147,
     "metadata": {},
     "output_type": "execute_result"
    },
    {
     "data": {
      "image/png": "[encoded data removed]",
      "text/plain": [
       "<Figure size 640x480 with 1 Axes>"
      ]
     },
     "metadata": {},
     "output_type": "display_data"
    }
   ],
   "source": [
    "data['Wastage2'].hist()"
   ]
  },
  {
   "cell_type": "markdown",
   "metadata": {
    "id": "c6_Z3IgFIrHG"
   },
   "source": [
    "#### NewsVendor3"
   ]
  },
  {
   "cell_type": "markdown",
   "metadata": {
    "id": "RSr8MU3XM5Dl"
   },
   "source": [
    "To account for a shelf life of 2 we are subtracting the previous days wastage from the optimal quantity we calculated from the News Vendor Model. This is an approach to reduce complexity of calculations. \n",
    "\n",
    "There are several other ways we brainstormed in which the 2 days shelf life can be taken into account.\n",
    "* The cost price for a time t could be taken as the weighted average of the wastage_(t-1) * cost_(t-1) at time and the (purchase_quantity_(t) - wastage_(t-1)) * cost_(t). This would adjust the undergae cost and hence the optimal quantity to be taken. while doing so we have to be careful to check that the demand at t should be more than the wastage at t-1 otherwise the product will be carried over to the 3rd day which we wanna avoid so will have to set that to zero. \n",
    "\n",
    "* Another approach for the same question could be to set the salvage price for a day as 0 as it can be carried over to next day but making sure that the quantity does not get carried over to the third day. We could may be have an adjusted salvage price to ensure that."
   ]
  },
  {
   "cell_type": "code",
   "execution_count": null,
   "metadata": {
    "id": "Tfm6Ep7gVZsN"
   },
   "outputs": [],
   "source": [
    "Newsvendor_Model3 = []\n",
    "Wastage3 = []\n",
    "\n",
    "for index, row in data.iterrows():\n",
    "    CU = row['SellingPrice_daily_modeled'] - (row['Modal Price']/100)\n",
    "    CO = (row['Modal Price']/100) - 5\n",
    "    CR = CU/(CU+CO)\n",
    "\n",
    "    if index == 0:\n",
    "        model3value = round(SD_Purchase*norm.ppf(CR) + Mean_Purchase, 2)\n",
    "        Newsvendor_Model3.append(model3value)\n",
    "    else:\n",
    "        model3value = round(SD_Purchase*norm.ppf(CR) + Mean_Purchase, 2) - Wastage3[-1]\n",
    "        Newsvendor_Model3.append(model3value)\n",
    "        \n",
    "    wastage3value = round(max(0, (model3value - row['Total Sales'])), 2)\n",
    "    Wastage3.append(wastage3value)\n",
    "\n",
    "data['Newsvendor_Model3'] = Newsvendor_Model3\n",
    "data['Wastage3'] = Wastage3"
   ]
  },
  {
   "cell_type": "code",
   "execution_count": null,
   "metadata": {
    "colab": {
     "base_uri": "https://localhost:8080/",
     "height": 461
    },
    "id": "pfKfSEd_U0hr",
    "outputId": "fbbf3621-e14c-4f22-9be3-d4cf044c8e47"
   },
   "outputs": [
    {
     "data": {
      "text/html": [
       "\n",
       "  <div id=\"df-f0f7bd29-35d6-48d5-b477-315e81d49522\">\n",
       "    <div class=\"colab-df-container\">\n",
       "      <div>\n",
       "<style scoped>\n",
       "    .dataframe tbody tr th:only-of-type {\n",
       "        vertical-align: middle;\n",
       "    }\n",
       "\n",
       "    .dataframe tbody tr th {\n",
       "        vertical-align: top;\n",
       "    }\n",
       "\n",
       "    .dataframe thead th {\n",
       "        text-align: right;\n",
       "    }\n",
       "</style>\n",
       "<table border=\"1\" class=\"dataframe\">\n",
       "  <thead>\n",
       "    <tr style=\"text-align: right;\">\n",
       "      <th></th>\n",
       "      <th>Date</th>\n",
       "      <th>Min Price</th>\n",
       "      <th>Max Price</th>\n",
       "      <th>Modal Price</th>\n",
       "      <th>Date 2</th>\n",
       "      <th>Purchase</th>\n",
       "      <th>Retail Sales</th>\n",
       "      <th>Wholesale</th>\n",
       "      <th>Total Sales</th>\n",
       "      <th>Wastage_Current</th>\n",
       "      <th>Newsvendor_Model1</th>\n",
       "      <th>Wastage1</th>\n",
       "      <th>SellingPrice_daily_modeled</th>\n",
       "      <th>Newsvendor_Model2</th>\n",
       "      <th>Wastage2</th>\n",
       "      <th>Newsvendor_Model3</th>\n",
       "      <th>Wastage3</th>\n",
       "    </tr>\n",
       "  </thead>\n",
       "  <tbody>\n",
       "    <tr>\n",
       "      <th>0</th>\n",
       "      <td>01-Apr-15</td>\n",
       "      <td>1000</td>\n",
       "      <td>1,500</td>\n",
       "      <td>1300</td>\n",
       "      <td>01/04/15</td>\n",
       "      <td>42</td>\n",
       "      <td>26</td>\n",
       "      <td>10</td>\n",
       "      <td>36</td>\n",
       "      <td>6</td>\n",
       "      <td>47.64</td>\n",
       "      <td>11.64</td>\n",
       "      <td>23.17</td>\n",
       "      <td>51.63</td>\n",
       "      <td>15.63</td>\n",
       "      <td>51.63</td>\n",
       "      <td>15.63</td>\n",
       "    </tr>\n",
       "    <tr>\n",
       "      <th>1</th>\n",
       "      <td>02-Apr-15</td>\n",
       "      <td>1,000</td>\n",
       "      <td>1500</td>\n",
       "      <td>1300</td>\n",
       "      <td>02/04/15</td>\n",
       "      <td>47</td>\n",
       "      <td>23</td>\n",
       "      <td>4</td>\n",
       "      <td>27</td>\n",
       "      <td>20</td>\n",
       "      <td>47.64</td>\n",
       "      <td>20.64</td>\n",
       "      <td>24.49</td>\n",
       "      <td>53.36</td>\n",
       "      <td>26.36</td>\n",
       "      <td>37.73</td>\n",
       "      <td>10.73</td>\n",
       "    </tr>\n",
       "    <tr>\n",
       "      <th>2</th>\n",
       "      <td>03-Apr-15</td>\n",
       "      <td>1200</td>\n",
       "      <td>1800</td>\n",
       "      <td>1600</td>\n",
       "      <td>03/04/15</td>\n",
       "      <td>53</td>\n",
       "      <td>31</td>\n",
       "      <td>26</td>\n",
       "      <td>57</td>\n",
       "      <td>0</td>\n",
       "      <td>47.64</td>\n",
       "      <td>0.00</td>\n",
       "      <td>20.93</td>\n",
       "      <td>36.86</td>\n",
       "      <td>0.00</td>\n",
       "      <td>26.13</td>\n",
       "      <td>0.00</td>\n",
       "    </tr>\n",
       "    <tr>\n",
       "      <th>3</th>\n",
       "      <td>04-Apr-15</td>\n",
       "      <td>1,000</td>\n",
       "      <td>2500</td>\n",
       "      <td>1300</td>\n",
       "      <td>04/04/15</td>\n",
       "      <td>101</td>\n",
       "      <td>41</td>\n",
       "      <td>15</td>\n",
       "      <td>56</td>\n",
       "      <td>45</td>\n",
       "      <td>47.64</td>\n",
       "      <td>0.00</td>\n",
       "      <td>20.95</td>\n",
       "      <td>48.11</td>\n",
       "      <td>0.00</td>\n",
       "      <td>48.11</td>\n",
       "      <td>0.00</td>\n",
       "    </tr>\n",
       "    <tr>\n",
       "      <th>4</th>\n",
       "      <td>06-Apr-15</td>\n",
       "      <td>1,000</td>\n",
       "      <td>1,800</td>\n",
       "      <td>1500</td>\n",
       "      <td>06/04/15</td>\n",
       "      <td>57</td>\n",
       "      <td>33</td>\n",
       "      <td>5</td>\n",
       "      <td>38</td>\n",
       "      <td>19</td>\n",
       "      <td>47.64</td>\n",
       "      <td>9.64</td>\n",
       "      <td>22.64</td>\n",
       "      <td>44.36</td>\n",
       "      <td>6.36</td>\n",
       "      <td>44.36</td>\n",
       "      <td>6.36</td>\n",
       "    </tr>\n",
       "  </tbody>\n",
       "</table>\n",
       "</div>\n",
       "      <button class=\"colab-df-convert\" onclick=\"convertToInteractive('df-f0f7bd29-35d6-48d5-b477-315e81d49522')\"\n",
       "              title=\"Convert this dataframe to an interactive table.\"\n",
       "              style=\"display:none;\">\n",
       "        \n",
       "  <svg xmlns=\"http://www.w3.org/2000/svg\" height=\"24px\"viewBox=\"0 0 24 24\"\n",
       "       width=\"24px\">\n",
       "    <path d=\"M0 0h24v24H0V0z\" fill=\"none\"/>\n",
       "    <path d=\"M18.56 5.44l.94 2.06.94-2.06 2.06-.94-2.06-.94-.94-2.06-.94 2.06-2.06.94zm-11 1L8.5 8.5l.94-2.06 2.06-.94-2.06-.94L8.5 2.5l-.94 2.06-2.06.94zm10 10l.94 2.06.94-2.06 2.06-.94-2.06-.94-.94-2.06-.94 2.06-2.06.94z\"/><path d=\"M17.41 7.96l-1.37-1.37c-.4-.4-.92-.59-1.43-.59-.52 0-1.04.2-1.43.59L10.3 9.45l-7.72 7.72c-.78.78-.78 2.05 0 2.83L4 21.41c.39.39.9.59 1.41.59.51 0 1.02-.2 1.41-.59l7.78-7.78 2.81-2.81c.8-.78.8-2.07 0-2.86zM5.41 20L4 18.59l7.72-7.72 1.47 1.35L5.41 20z\"/>\n",
       "  </svg>\n",
       "      </button>\n",
       "      \n",
       "  <style>\n",
       "    .colab-df-container {\n",
       "      display:flex;\n",
       "      flex-wrap:wrap;\n",
       "      gap: 12px;\n",
       "    }\n",
       "\n",
       "    .colab-df-convert {\n",
       "      background-color: #E8F0FE;\n",
       "      border: none;\n",
       "      border-radius: 50%;\n",
       "      cursor: pointer;\n",
       "      display: none;\n",
       "      fill: #1967D2;\n",
       "      height: 32px;\n",
       "      padding: 0 0 0 0;\n",
       "      width: 32px;\n",
       "    }\n",
       "\n",
       "    .colab-df-convert:hover {\n",
       "      background-color: #E2EBFA;\n",
       "      box-shadow: 0px 1px 2px rgba(60, 64, 67, 0.3), 0px 1px 3px 1px rgba(60, 64, 67, 0.15);\n",
       "      fill: #174EA6;\n",
       "    }\n",
       "\n",
       "    [theme=dark] .colab-df-convert {\n",
       "      background-color: #3B4455;\n",
       "      fill: #D2E3FC;\n",
       "    }\n",
       "\n",
       "    [theme=dark] .colab-df-convert:hover {\n",
       "      background-color: #434B5C;\n",
       "      box-shadow: 0px 1px 3px 1px rgba(0, 0, 0, 0.15);\n",
       "      filter: drop-shadow(0px 1px 2px rgba(0, 0, 0, 0.3));\n",
       "      fill: #FFFFFF;\n",
       "    }\n",
       "  </style>\n",
       "\n",
       "      <script>\n",
       "        const buttonEl =\n",
       "          document.querySelector('#df-f0f7bd29-35d6-48d5-b477-315e81d49522 button.colab-df-convert');\n",
       "        buttonEl.style.display =\n",
       "          google.colab.kernel.accessAllowed ? 'block' : 'none';\n",
       "\n",
       "        async function convertToInteractive(key) {\n",
       "          const element = document.querySelector('#df-f0f7bd29-35d6-48d5-b477-315e81d49522');\n",
       "          const dataTable =\n",
       "            await google.colab.kernel.invokeFunction('convertToInteractive',\n",
       "                                                     [key], {});\n",
       "          if (!dataTable) return;\n",
       "\n",
       "          const docLinkHtml = 'Like what you see? Visit the ' +\n",
       "            '<a target=\"_blank\" href=https://colab.research.google.com/notebooks/data_table.ipynb>data table notebook</a>'\n",
       "            + ' to learn more about interactive tables.';\n",
       "          element.innerHTML = '';\n",
       "          dataTable['output_type'] = 'display_data';\n",
       "          await google.colab.output.renderOutput(dataTable, element);\n",
       "          const docLink = document.createElement('div');\n",
       "          docLink.innerHTML = docLinkHtml;\n",
       "          element.appendChild(docLink);\n",
       "        }\n",
       "      </script>\n",
       "    </div>\n",
       "  </div>\n",
       "  "
      ],
      "text/plain": [
       "        Date Min Price  Max Price  Modal Price    Date 2  Purchase  \\\n",
       "0  01-Apr-15       1000     1,500         1300  01/04/15        42   \n",
       "1  02-Apr-15      1,000      1500         1300  02/04/15        47   \n",
       "2  03-Apr-15       1200      1800         1600  03/04/15        53   \n",
       "3  04-Apr-15      1,000      2500         1300  04/04/15       101   \n",
       "4  06-Apr-15      1,000     1,800         1500  06/04/15        57   \n",
       "\n",
       "   Retail Sales  Wholesale  Total Sales  Wastage_Current  Newsvendor_Model1  \\\n",
       "0            26         10           36                6              47.64   \n",
       "1            23          4           27               20              47.64   \n",
       "2            31         26           57                0              47.64   \n",
       "3            41         15           56               45              47.64   \n",
       "4            33          5           38               19              47.64   \n",
       "\n",
       "   Wastage1  SellingPrice_daily_modeled  Newsvendor_Model2  Wastage2  \\\n",
       "0     11.64                       23.17              51.63     15.63   \n",
       "1     20.64                       24.49              53.36     26.36   \n",
       "2      0.00                       20.93              36.86      0.00   \n",
       "3      0.00                       20.95              48.11      0.00   \n",
       "4      9.64                       22.64              44.36      6.36   \n",
       "\n",
       "   Newsvendor_Model3  Wastage3  \n",
       "0              51.63     15.63  \n",
       "1              37.73     10.73  \n",
       "2              26.13      0.00  \n",
       "3              48.11      0.00  \n",
       "4              44.36      6.36  "
      ]
     },
     "execution_count": 150,
     "metadata": {},
     "output_type": "execute_result"
    }
   ],
   "source": [
    "data.head()"
   ]
  },
  {
   "cell_type": "code",
   "execution_count": null,
   "metadata": {
    "colab": {
     "base_uri": "https://localhost:8080/",
     "height": 448
    },
    "id": "eyUR49BEWg62",
    "outputId": "29529f00-7e50-445c-eaff-f6f9c004b55c"
   },
   "outputs": [
    {
     "data": {
      "text/plain": [
       "<Axes: >"
      ]
     },
     "execution_count": 151,
     "metadata": {},
     "output_type": "execute_result"
    },
    {
     "data": {
      "image/png": "[encoded data removed]",
      "text/plain": [
       "<Figure size 640x480 with 1 Axes>"
      ]
     },
     "metadata": {},
     "output_type": "display_data"
    }
   ],
   "source": [
    "data['Wastage3'].hist()"
   ]
  },
  {
   "cell_type": "markdown",
   "metadata": {
    "id": "ziiYZeVUQVF8"
   },
   "source": [
    "#### What other decision areas should VVF be concerned about ?\n",
    "\n",
    "* Marketing: VFF needs to develop a marketing plan that will reach its target customers and convince them to buy its produce. The marketing plan should include a mix of advertising, public relations, and sales promotions.\n",
    "* Pricing: VFF needs to set prices that are competitive and that will allow it to make a profit. The price of produce is affected by a number of factors, including the cost of production, the cost of transportation, and the demand for produce.\n",
    "* Customer service: VFF needs to provide excellent customer service to its customers. This includes being responsive to customer complaints, offering refunds or exchanges for damaged or spoiled produce, and providing information about the produce that is being sold.\n",
    "* Technology: VFF needs to use technology to improve its operations. This includes using technology to track inventory, manage orders, and communicate with customers.\n",
    "* Sustainability: VFF needs to operate in a sustainable manner. This includes using sustainable farming practices, reducing waste, and conserving energy."
   ]
  },
  {
   "cell_type": "markdown",
   "metadata": {
    "id": "30KyxW-Qr9dm"
   },
   "source": [
    "## Inventory Optimization as a Flow network"
   ]
  },
  {
   "cell_type": "markdown",
   "metadata": {
    "id": "Rel3rZwDsFfV"
   },
   "source": [
    "Decision variables:\n",
    "\n",
    "- $x[i]$: number of items manufactured on day $i$\n",
    "- $s[i]$: number of items sold on day $i$\n",
    "- $I[i]$: inventory level at the end of day $i$\n",
    "- $B[i]$: backorder level at the end of day $i$\n",
    "\n",
    "Objective Function:\n",
    "\n",
    "$$\\min \\sum_{i=1}^{T} c[i]x[i] + hI[i] + bB[i]$$\n",
    "\n",
    "The manufacturing cost is $c[i]x[i]$, the holding cost is $hI[i]$, and the backorder cost is $bB[i]$.\n",
    "\n",
    "The constraints for the problem are:\n",
    "\n",
    "1. Inventory balance: $I[i-1] + x[i] - s[i] = I[i]$ for all $i$ in range(1,$T+1$)\n",
    "2. Backorder balance: $B[i-1] + d[i] - s[i] = B[i]$ for all $i$ in range(1,$T+1$)\n",
    "3. Initial conditions: $I[0] = B[0] = 0$\n",
    "4. Non-negativity: $x[i]$, $s[i]$, $I[i]$, $B[i] \\geq 0$ for all $i$ in range(1,$T+1$)\n"
   ]
  },
  {
   "cell_type": "code",
   "execution_count": null,
   "metadata": {
    "id": "Xj2AmPdXsGTd"
   },
   "outputs": [],
   "source": [
    "!pip install -q pyomo\n",
    "import pyomo.environ as pyo\n",
    "!apt-get install -y -qq glpk-utils"
   ]
  },
  {
   "cell_type": "code",
   "execution_count": 1,
   "metadata": {
    "id": "y7vylVYRsLIO"
   },
   "outputs": [
    {
     "name": "stdout",
     "output_type": "stream",
     "text": [
      "Day 1: Manufacture 4.0, Sell 4.0, Inventory level 0.0\n",
      "Day 2: Manufacture 22.0, Sell 5.0, Inventory level 17.0\n",
      "Day 3: Manufacture 0.0, Sell 3.0, Inventory level 14.0\n",
      "Day 4: Manufacture 0.0, Sell 6.0, Inventory level 8.0\n",
      "Day 5: Manufacture 0.0, Sell 8.0, Inventory level 0.0\n",
      "Day 6: Manufacture 2.0, Sell 2.0, Inventory level 0.0\n",
      "Day 7: Manufacture 10.0, Sell 0.0, Inventory level 10.0\n",
      "Day 8: Manufacture 0.0, Sell 6.0, Inventory level 4.0\n",
      "Day 9: Manufacture 0.0, Sell 4.0, Inventory level 0.0\n",
      "Day 10: Manufacture 3.0, Sell 3.0, Inventory level 0.0\n"
     ]
    }
   ],
   "source": [
    "from pyomo.environ import *\n",
    "\n",
    "# Model\n",
    "model = ConcreteModel()\n",
    "\n",
    "# Info From the Question\n",
    "model.T = Set(initialize=[i for i in range(1, 11)])\n",
    "model.demands = Param(model.T, initialize={1: 4, 2: 5, 3: 3, 4: 6, 5: 8, 6: 2, 7: 0, 8: 6, 9: 4, 10: 3})\n",
    "model.costs = Param(model.T, initialize={1: 1, 2: 2, 3: 3, 4: 6, 5: 8, 6: 2, 7: 1, 8: 2, 9: 5, 10: 3})\n",
    "model.price = 8\n",
    "model.holding_cost = 1\n",
    "model.backorder_cost = 2\n",
    "\n",
    "# Define Variables\n",
    "model.production = Var(model.T, domain=NonNegativeReals)\n",
    "model.stock = Var(model.T, domain=NonNegativeReals)\n",
    "model.sales = Var(model.T, domain=NonNegativeReals)\n",
    "\n",
    "# Define Objective Function\n",
    "model.objective = Objective(expr = sum(\n",
    "        model.price * model.sales[i] - (model.costs[i] * model.production[i] + model.holding_cost * model.stock[i] + model.backorder_cost * (model.demands[i] - model.sales[i]))\n",
    "        for i in model.T), sense = maximize)\n",
    "\n",
    "\n",
    "# Define Constraints\n",
    "\n",
    "model.demand_constraint = Constraint(model.T, rule=lambda model, i: model.sales[i] <= model.demands[i])\n",
    "\n",
    "def stock_constraint_rule(model, i):\n",
    "    if i == 1:\n",
    "        return model.stock[i] == model.production[i] - model.sales[i]\n",
    "    return model.stock[i] ==  model.production[i] + model.stock[i - 1] - model.sales[i]\n",
    "\n",
    "model.stock_constraint = Constraint(model.T, rule=stock_constraint_rule)\n",
    "\n",
    "# Solve the problem\n",
    "solver = SolverFactory('glpk')\n",
    "solver.solve(model)\n",
    "\n",
    "# Print the results\n",
    "for i in model.T:\n",
    "    print(f\"Day {i}: Manufacture {model.production[i].value}, Sell {model.sales[i].value}, Inventory level {model.stock[i].value}\")\n"
   ]
  },
  {
   "cell_type": "markdown",
   "metadata": {
    "id": "lTsYnaY2sQ8Z"
   },
   "source": [
    "## Task Allocation"
   ]
  },
  {
   "cell_type": "markdown",
   "metadata": {
    "id": "gs36DHJEsP4O"
   },
   "source": [
    "Decision variables:\n",
    "- x_{i,j} : Binary variable indicating if task i is assigned to machine j (1) or not (0)\n",
    "- y_{i,j} : Binary variable indicating if task i and j are assigned to different machines (1) or not (0)\n",
    "\n",
    "\n",
    "Constraints:\n",
    "- Each task must be assigned to either machine A or B:\n",
    "\n",
    "- Each pair of tasks can only be assigned to different machines if they share a lot of context:\n",
    "- Binary variables must take on binary values:\n",
    "\n",
    "Objective function: Minimize: qd + pc"
   ]
  },
  {
   "cell_type": "code",
   "execution_count": null,
   "metadata": {
    "id": "9KjvvSKosbI5"
   },
   "outputs": [],
   "source": [
    "import networkx as nx\n",
    "from pyomo.environ import *\n",
    "\n",
    "# Data\n",
    "c = 15\n",
    "d = 10\n",
    "A = {1, 2, 3, 4, 5}\n",
    "B = {6, 7, 8, 9, 10, 11}\n",
    "tasks = range(1, 12)\n",
    "similar_tasks = [(1, 5), (1, 10), (2, 7), (2, 8), (2, 9), (2, 10), (3, 10), (4, 10), (5, 6), (5, 11), (7, 9)]\n",
    "\n",
    "# Create a directed graph\n",
    "G = nx.DiGraph()\n",
    "\n",
    "G.add_node('source')\n",
    "G.add_node('sink')\n",
    "\n",
    "# Add nodes for tasks and assign them to groups A and B\n",
    "for i in tasks:\n",
    "    G.add_node(i, group='A' if i in A else 'B')\n",
    "\n",
    "\n",
    "# Add edges between tasks and a virtual source node\n",
    "for i in A:\n",
    "    G.add_edge('source', i, capacity=c)\n",
    "\n",
    "# Add edges between tasks and a virtual sink node\n",
    "for i in B:\n",
    "    G.add_edge(i, 'sink', capacity=c)\n",
    "\n",
    "# Add edges between similar tasks\n",
    "for t1, t2 in similar_tasks:\n",
    "    G.add_edge(t1, t2, capacity=d)\n",
    "    G.add_edge(t2, t1, capacity=d)\n",
    "\n",
    "# Solve the minimum cut problem\n",
    "cut_value, partition = nx.minimum_cut(G, 'source', 'sink')\n",
    "\n",
    "# Get the tasks assigned to group A and B after the cut\n",
    "group_a_tasks = [task for task in partition[0] if task != 'source']\n",
    "group_b_tasks = [task for task in partition[1] if task != 'sink']\n",
    "\n",
    "# Print the results\n",
    "print(\"Group A tasks:\", group_a_tasks)\n",
    "print(\"Group B tasks:\", group_b_tasks)\n",
    "print(\"Total cost:\", cut_value)\n"
   ]
  },
  {
   "cell_type": "code",
   "execution_count": null,
   "metadata": {
    "id": "Xe3-HUfpscOA"
   },
   "outputs": [],
   "source": [
    "print('This is a minimum cut problem, if nothing changes, the cut would be a line which separate original A and B. The cost would be the sum of cost of similar_tasks.')\n",
    "pos = nx.spring_layout(G)  # Position nodes using a spring layout algorithm\n",
    "nx.draw(G, pos, with_labels=True, node_color='lightblue', node_size=500)\n",
    "nx.draw_networkx_edges(G, pos, width=1.0, alpha=0.5)\n",
    "edge_labels = nx.get_edge_attributes(G, 'capacity')\n",
    "nx.draw_networkx_edge_labels(G, pos, edge_labels=edge_labels)\n",
    "plt.title(\"Task Assignment Graph\")\n",
    "plt.show()"
   ]
  },
  {
   "cell_type": "markdown",
   "metadata": {
    "id": "yARsb0r1yl3Q"
   },
   "source": [
    "# Economic Order Quantity (EOQ)"
   ]
  },
  {
   "cell_type": "code",
   "execution_count": null,
   "metadata": {
    "id": "vbdchy98w_QF"
   },
   "outputs": [],
   "source": [
    "FixedCost = 200\n",
    "MarginalCostA = 700\n",
    "MarginalCostB = 800\n",
    "DemandMonthlyA = 250\n",
    "DemandMonthlyB = 300\n",
    "interest = 0.15"
   ]
  },
  {
   "cell_type": "code",
   "execution_count": null,
   "metadata": {
    "id": "IDLsCfOiyi1o"
   },
   "outputs": [],
   "source": [
    "# Question 1\n",
    "# EOQ = sqrt(2*fixedcost*demandrate/holdingcost)\n",
    "\n",
    "EOQ_A = np.sqrt(2*FixedCost*DemandMonthlyA/(interest*MarginalCostA/12))\n",
    "EOQ_B = np.sqrt(2*FixedCost*DemandMonthlyB/(interest*MarginalCostB/12))\n",
    "\n",
    "# Total Cost = Setup Cost + Holding Cost + Purchase Cost\n",
    "\n",
    "# Setup = (Demand Rate/Order Quantity)*Fixed Cost\n",
    "# Holding = holding cost per unit per period*(Order Quantity/2)\n",
    "# Purchase = Demand Rate*Marginal Cost\n",
    "\n",
    "AnnualSetup_A = (DemandMonthlyA*12)*FixedCost/EOQ_A\n",
    "AnnualSetup_B = (DemandMonthlyB*12)*FixedCost/EOQ_B\n",
    "\n",
    "AnnualHolding_A = (interest*MarginalCostA)*(EOQ_A/2)\n",
    "AnnualHolding_B = (interest*MarginalCostB)*(EOQ_B/2)"
   ]
  },
  {
   "cell_type": "code",
   "execution_count": null,
   "metadata": {
    "colab": {
     "base_uri": "https://localhost:8080/"
    },
    "id": "caxW5dgNyr8B",
    "outputId": "2918a6b1-5755-473d-d792-1f38b93f949a"
   },
   "outputs": [
    {
     "name": "stdout",
     "output_type": "stream",
     "text": [
      "Optimal Order Quantity for A is : 107\n",
      "Optimal Order Quantity for B is : 110\n",
      "Annual Setup Cost for A is : 5612\n",
      "Annual Setup Cost for B is : 6573\n",
      "Annual Holding Cost for A is : 5612\n",
      "Annual Holding Cost for B is : 6573\n"
     ]
    }
   ],
   "source": [
    "print(f\"Optimal Order Quantity for A is :\",round(EOQ_A))\n",
    "print(f\"Optimal Order Quantity for B is :\",round(EOQ_B))\n",
    "\n",
    "print(f\"Annual Setup Cost for A is :\",round(AnnualSetup_A))\n",
    "print(f\"Annual Setup Cost for B is :\",round(AnnualSetup_B))\n",
    "\n",
    "print(f\"Annual Holding Cost for A is :\",round(AnnualHolding_A))\n",
    "print(f\"Annual Holding Cost for B is :\",round(AnnualHolding_B))"
   ]
  },
  {
   "cell_type": "code",
   "execution_count": null,
   "metadata": {
    "colab": {
     "base_uri": "https://localhost:8080/"
    },
    "id": "2uivuyod7wEd",
    "outputId": "07a5f022-fac2-44d5-ec2f-6ecb530ebbc0"
   },
   "outputs": [
    {
     "name": "stdout",
     "output_type": "stream",
     "text": [
      "Optimal Order Quantity under Storage Constraint for A is : 60\n",
      "Optimal Order Quantity under Storage Constraint for B is : 75\n",
      "Annual Setup Cost under Storage Constraint for A is : 10000\n",
      "Annual Setup Cost under Storage Constraint for B is : 9600\n",
      "Annual Holding Cost under Storage Constraint for A is : 3150\n",
      "Annual Holding Cost under Storage Constraint for B is : 4500\n"
     ]
    }
   ],
   "source": [
    "# Question 2\n",
    "StorageConstraintA = 60\n",
    "StorageConstraintB = 75\n",
    "\n",
    "# In this case the optimal order quantities for A and B will now be 60 and 75 respectively as these are the values closest to the optimal value\n",
    "\n",
    "print(f\"Optimal Order Quantity under Storage Constraint for A is :\",60)\n",
    "print(f\"Optimal Order Quantity under Storage Constraint for B is :\",75)\n",
    "\n",
    "print(f\"Annual Setup Cost under Storage Constraint for A is :\",round(AnnualSetup_A*EOQ_A/60))\n",
    "print(f\"Annual Setup Cost under Storage Constraint for B is :\",round(AnnualSetup_B*EOQ_B/75))\n",
    "\n",
    "print(f\"Annual Holding Cost under Storage Constraint for A is :\",round(AnnualHolding_A/EOQ_A*60))\n",
    "print(f\"Annual Holding Cost under Storage Constraint for B is :\",round(AnnualHolding_B/EOQ_B*75))\n"
   ]
  },
  {
   "cell_type": "markdown",
   "metadata": {
    "id": "Co3l2oLdBvTZ"
   },
   "source": [
    "Question 3 - Minimising total setup and holding costs\n",
    "\n",
    "$Q = \\lambda*T$\n",
    "\n",
    "$HC = i*c*(λT)/2$ (For each product)\n",
    "\n",
    "$SC = K/T$\n",
    "\n",
    "$TC = 400/T + i*(700/2)*(250*12)*T + i*(800/2)*(300*12)*T$\n",
    "\n",
    "Differentiating Total Cost wrt T and setting resulting eqn to 0\n",
    "\n",
    "$\\frac{\\partial (TC)}{\\partial T} = -400/T^2 + i*(700/2)*(250*12) + i*(800/2)*(300*12) = 0$\n",
    "\n",
    "Solving for T we get:"
   ]
  },
  {
   "cell_type": "code",
   "execution_count": null,
   "metadata": {
    "colab": {
     "base_uri": "https://localhost:8080/"
    },
    "id": "MuIry3vNA7Lk",
    "outputId": "4dba2950-973d-4eef-af26-a789e251b290"
   },
   "outputs": [
    {
     "name": "stdout",
     "output_type": "stream",
     "text": [
      "The optimal Time Gap between orders is : 12\n"
     ]
    }
   ],
   "source": [
    "T = round((np.sqrt(400/(interest*(700/2)*(250*12) + interest*(800/2)*(300*12))))*365)\n",
    "print(f\"The optimal Time Gap between orders is :\",T)"
   ]
  },
  {
   "cell_type": "code",
   "execution_count": null,
   "metadata": {
    "colab": {
     "base_uri": "https://localhost:8080/"
    },
    "id": "ihtySUiaQCh0",
    "outputId": "dd45ab67-e8da-4b18-9ff1-2c70a1e40504"
   },
   "outputs": [
    {
     "name": "stdout",
     "output_type": "stream",
     "text": [
      "The Optimal Order Quantity for A when both items are ordered together is : 99\n",
      "The Optimal Order Quantity for B when both items are ordered together is : 118\n"
     ]
    }
   ],
   "source": [
    "OrderA = DemandMonthlyA*T*12/365\n",
    "OrderB = DemandMonthlyB*T*12/365\n",
    "\n",
    "print(f\"The Optimal Order Quantity for A when both items are ordered together is :\",round(OrderA))\n",
    "print(f\"The Optimal Order Quantity for B when both items are ordered together is :\",round(OrderB))"
   ]
  },
  {
   "cell_type": "code",
   "execution_count": null,
   "metadata": {
    "colab": {
     "base_uri": "https://localhost:8080/"
    },
    "id": "jgq0rhmQeYZ8",
    "outputId": "b89c675e-3a0d-408b-b16a-40b05852ee76"
   },
   "outputs": [
    {
     "name": "stdout",
     "output_type": "stream",
     "text": [
      "Annual Setup Cost for A under the new plan is : 6061\n",
      "Annual Setup Cost for B under the new plan is : 6102\n",
      "Annual Holding Cost for A under the new plan is : 5198\n",
      "Annual Holding Cost for B under the new plan is : 7080\n"
     ]
    }
   ],
   "source": [
    "# Question 4\n",
    "\n",
    "AnnualSetupNew_A = (DemandMonthlyA*12)*FixedCost/round(OrderA)\n",
    "AnnualSetupNew_B = (DemandMonthlyB*12)*FixedCost/round(OrderB)\n",
    "\n",
    "AnnualHoldingNew_A = (interest*MarginalCostA)*(round(OrderA)/2)\n",
    "AnnualHoldingNew_B = (interest*MarginalCostB)*(round(OrderB)/2)\n",
    "\n",
    "print(f\"Annual Setup Cost for A under the new plan is :\",round(AnnualSetupNew_A))\n",
    "print(f\"Annual Setup Cost for B under the new plan is :\",round(AnnualSetupNew_B))\n",
    "\n",
    "print(f\"Annual Holding Cost for A under the new plan is :\",round(AnnualHoldingNew_A))\n",
    "print(f\"Annual Holding Cost for B under the new plan is :\",round(AnnualHoldingNew_B))"
   ]
  },
  {
   "cell_type": "markdown",
   "metadata": {
    "id": "Io75anh1iqez"
   },
   "source": [
    "Without rounding the Optimal Order quantities the Annual Setup Costs are the same for both A and B."
   ]
  },
  {
   "cell_type": "markdown",
   "metadata": {
    "id": "vCoL2hLJgfHJ"
   },
   "source": [
    "The total annual cost incurred in this setup are higher than part 1. Despite having a slightly lower total setup cost it is offset by the higher holding costs. This happens because the optimal order quantity for A is less than part 1 whereas the optimal order quantity for B increases. This makes the overall holding costs increase because the holding cost per unit for B is higher."
   ]
  },
  {
   "cell_type": "markdown",
   "metadata": {
    "id": "I3sAlFSLjjvK"
   },
   "source": [
    "# Supply Chain Contract"
   ]
  },
  {
   "cell_type": "code",
   "execution_count": null,
   "metadata": {
    "colab": {
     "base_uri": "https://localhost:8080/",
     "height": 300
    },
    "id": "YpB7_bKqjo3E",
    "outputId": "67bdd431-9f4b-44a6-db4a-aefebc7037b2"
   },
   "outputs": [
    {
     "data": {
      "text/html": [
       "\n",
       "  <div id=\"df-0753cbd7-5100-4f51-9962-56546f65383f\">\n",
       "    <div class=\"colab-df-container\">\n",
       "      <div>\n",
       "<style scoped>\n",
       "    .dataframe tbody tr th:only-of-type {\n",
       "        vertical-align: middle;\n",
       "    }\n",
       "\n",
       "    .dataframe tbody tr th {\n",
       "        vertical-align: top;\n",
       "    }\n",
       "\n",
       "    .dataframe thead th {\n",
       "        text-align: right;\n",
       "    }\n",
       "</style>\n",
       "<table border=\"1\" class=\"dataframe\">\n",
       "  <thead>\n",
       "    <tr style=\"text-align: right;\">\n",
       "      <th></th>\n",
       "      <th>Baklavas_sold</th>\n",
       "      <th>Cum_Prob</th>\n",
       "      <th>Prob</th>\n",
       "    </tr>\n",
       "  </thead>\n",
       "  <tbody>\n",
       "    <tr>\n",
       "      <th>0</th>\n",
       "      <td>0</td>\n",
       "      <td>0.05</td>\n",
       "      <td>0.05</td>\n",
       "    </tr>\n",
       "    <tr>\n",
       "      <th>1</th>\n",
       "      <td>5</td>\n",
       "      <td>0.13</td>\n",
       "      <td>0.08</td>\n",
       "    </tr>\n",
       "    <tr>\n",
       "      <th>2</th>\n",
       "      <td>10</td>\n",
       "      <td>0.22</td>\n",
       "      <td>0.09</td>\n",
       "    </tr>\n",
       "    <tr>\n",
       "      <th>3</th>\n",
       "      <td>15</td>\n",
       "      <td>0.32</td>\n",
       "      <td>0.10</td>\n",
       "    </tr>\n",
       "    <tr>\n",
       "      <th>4</th>\n",
       "      <td>20</td>\n",
       "      <td>0.47</td>\n",
       "      <td>0.15</td>\n",
       "    </tr>\n",
       "    <tr>\n",
       "      <th>5</th>\n",
       "      <td>25</td>\n",
       "      <td>0.72</td>\n",
       "      <td>0.25</td>\n",
       "    </tr>\n",
       "    <tr>\n",
       "      <th>6</th>\n",
       "      <td>30</td>\n",
       "      <td>0.87</td>\n",
       "      <td>0.15</td>\n",
       "    </tr>\n",
       "    <tr>\n",
       "      <th>7</th>\n",
       "      <td>35</td>\n",
       "      <td>1.00</td>\n",
       "      <td>0.13</td>\n",
       "    </tr>\n",
       "  </tbody>\n",
       "</table>\n",
       "</div>\n",
       "      <button class=\"colab-df-convert\" onclick=\"convertToInteractive('df-0753cbd7-5100-4f51-9962-56546f65383f')\"\n",
       "              title=\"Convert this dataframe to an interactive table.\"\n",
       "              style=\"display:none;\">\n",
       "        \n",
       "  <svg xmlns=\"http://www.w3.org/2000/svg\" height=\"24px\"viewBox=\"0 0 24 24\"\n",
       "       width=\"24px\">\n",
       "    <path d=\"M0 0h24v24H0V0z\" fill=\"none\"/>\n",
       "    <path d=\"M18.56 5.44l.94 2.06.94-2.06 2.06-.94-2.06-.94-.94-2.06-.94 2.06-2.06.94zm-11 1L8.5 8.5l.94-2.06 2.06-.94-2.06-.94L8.5 2.5l-.94 2.06-2.06.94zm10 10l.94 2.06.94-2.06 2.06-.94-2.06-.94-.94-2.06-.94 2.06-2.06.94z\"/><path d=\"M17.41 7.96l-1.37-1.37c-.4-.4-.92-.59-1.43-.59-.52 0-1.04.2-1.43.59L10.3 9.45l-7.72 7.72c-.78.78-.78 2.05 0 2.83L4 21.41c.39.39.9.59 1.41.59.51 0 1.02-.2 1.41-.59l7.78-7.78 2.81-2.81c.8-.78.8-2.07 0-2.86zM5.41 20L4 18.59l7.72-7.72 1.47 1.35L5.41 20z\"/>\n",
       "  </svg>\n",
       "      </button>\n",
       "      \n",
       "  <style>\n",
       "    .colab-df-container {\n",
       "      display:flex;\n",
       "      flex-wrap:wrap;\n",
       "      gap: 12px;\n",
       "    }\n",
       "\n",
       "    .colab-df-convert {\n",
       "      background-color: #E8F0FE;\n",
       "      border: none;\n",
       "      border-radius: 50%;\n",
       "      cursor: pointer;\n",
       "      display: none;\n",
       "      fill: #1967D2;\n",
       "      height: 32px;\n",
       "      padding: 0 0 0 0;\n",
       "      width: 32px;\n",
       "    }\n",
       "\n",
       "    .colab-df-convert:hover {\n",
       "      background-color: #E2EBFA;\n",
       "      box-shadow: 0px 1px 2px rgba(60, 64, 67, 0.3), 0px 1px 3px 1px rgba(60, 64, 67, 0.15);\n",
       "      fill: #174EA6;\n",
       "    }\n",
       "\n",
       "    [theme=dark] .colab-df-convert {\n",
       "      background-color: #3B4455;\n",
       "      fill: #D2E3FC;\n",
       "    }\n",
       "\n",
       "    [theme=dark] .colab-df-convert:hover {\n",
       "      background-color: #434B5C;\n",
       "      box-shadow: 0px 1px 3px 1px rgba(0, 0, 0, 0.15);\n",
       "      filter: drop-shadow(0px 1px 2px rgba(0, 0, 0, 0.3));\n",
       "      fill: #FFFFFF;\n",
       "    }\n",
       "  </style>\n",
       "\n",
       "      <script>\n",
       "        const buttonEl =\n",
       "          document.querySelector('#df-0753cbd7-5100-4f51-9962-56546f65383f button.colab-df-convert');\n",
       "        buttonEl.style.display =\n",
       "          google.colab.kernel.accessAllowed ? 'block' : 'none';\n",
       "\n",
       "        async function convertToInteractive(key) {\n",
       "          const element = document.querySelector('#df-0753cbd7-5100-4f51-9962-56546f65383f');\n",
       "          const dataTable =\n",
       "            await google.colab.kernel.invokeFunction('convertToInteractive',\n",
       "                                                     [key], {});\n",
       "          if (!dataTable) return;\n",
       "\n",
       "          const docLinkHtml = 'Like what you see? Visit the ' +\n",
       "            '<a target=\"_blank\" href=https://colab.research.google.com/notebooks/data_table.ipynb>data table notebook</a>'\n",
       "            + ' to learn more about interactive tables.';\n",
       "          element.innerHTML = '';\n",
       "          dataTable['output_type'] = 'display_data';\n",
       "          await google.colab.output.renderOutput(dataTable, element);\n",
       "          const docLink = document.createElement('div');\n",
       "          docLink.innerHTML = docLinkHtml;\n",
       "          element.appendChild(docLink);\n",
       "        }\n",
       "      </script>\n",
       "    </div>\n",
       "  </div>\n",
       "  "
      ],
      "text/plain": [
       "   Baklavas_sold  Cum_Prob  Prob\n",
       "0              0      0.05  0.05\n",
       "1              5      0.13  0.08\n",
       "2             10      0.22  0.09\n",
       "3             15      0.32  0.10\n",
       "4             20      0.47  0.15\n",
       "5             25      0.72  0.25\n",
       "6             30      0.87  0.15\n",
       "7             35      1.00  0.13"
      ]
     },
     "execution_count": 50,
     "metadata": {},
     "output_type": "execute_result"
    }
   ],
   "source": [
    "import pandas as pd\n",
    "Baklavas_sold = [0,5,10,15,20,25,30,35]\n",
    "Cum_Prob = [0.05,0.13,0.22,0.32,0.47,0.72,0.87,1]\n",
    "Prob = [0.05,0.08,0.09,0.10,0.15,0.25,0.15,0.13]\n",
    "data = {'Baklavas_sold': Baklavas_sold, 'Cum_Prob': Cum_Prob, 'Prob': Prob}\n",
    "cafe = pd.DataFrame(data)\n",
    "cafe"
   ]
  },
  {
   "cell_type": "markdown",
   "metadata": {
    "id": "VNn7JR4sav3p"
   },
   "source": [
    "Assuming demand can only take values as given and not in between."
   ]
  },
  {
   "cell_type": "code",
   "execution_count": null,
   "metadata": {
    "colab": {
     "base_uri": "https://localhost:8080/"
    },
    "id": "jOa0OpkLm65Y",
    "outputId": "996142ec-c8d8-42df-d71f-a49387e42db2"
   },
   "outputs": [
    {
     "name": "stdout",
     "output_type": "stream",
     "text": [
      "The underage cost is : 0.35\n",
      "The overage cost is : 0.15\n",
      "The Critical Ratio is : 0.7\n",
      "\n",
      "Since we have the cumulative probabilities given and the CR is 0.7, Nergis cafe should make 25 Baclavas. The underage cost is higher than the overage cost which implies that the cost of waste is not as high as the opportunity cost\n"
     ]
    }
   ],
   "source": [
    "# Question 1\n",
    "\n",
    "# Overage cost (not enough demand) = cost - salvage + holding\n",
    "# Underage cost (Excess demand) = selling - cost\n",
    "\n",
    "overage1 = 0.15\n",
    "underage1 = 0.5 - 0.15\n",
    "\n",
    "print(f\"The underage cost is :\",underage1)\n",
    "print(f\"The overage cost is :\",overage1)\n",
    "\n",
    "critical_ratio1 = underage1/(underage1+overage1)\n",
    "print(f\"The Critical Ratio is :\",critical_ratio1)\n",
    "print(\"\")\n",
    "# Critical Ratio is the point where the expected costs of underage and overage are equal. In other words, the prob of not stocking out.\n",
    "print(\"Since we have the cumulative probabilities given and the CR is 0.7, Nergis cafe should make 25 Baclavas. The underage cost is higher than the overage cost which implies that the cost of waste is not as high as the opportunity cost\")"
   ]
  },
  {
   "cell_type": "code",
   "execution_count": null,
   "metadata": {
    "colab": {
     "base_uri": "https://localhost:8080/"
    },
    "id": "Drjcu1QXcoai",
    "outputId": "68dfa4a8-e3ab-4263-b4f1-493a9b044dd4"
   },
   "outputs": [
    {
     "name": "stdout",
     "output_type": "stream",
     "text": [
      "The new underage cost is : 0.35\n",
      "The new overage cost is : 0.1\n",
      "The new Critical Ratio is : 0.78\n",
      "\n",
      "In this case Nergis Cafe should make 30 Baclavas at the start of each day as the cumulative prob for 30 baclavas being sold is 0.87 > CR\n"
     ]
    }
   ],
   "source": [
    "# Question 2\n",
    "# Salvage earnings = 5 cents/baclava\n",
    "overage2 = 0.10\n",
    "underage2 = 0.5 - 0.15\n",
    "\n",
    "print(f\"The new underage cost is :\",underage2)\n",
    "print(f\"The new overage cost is :\",overage2)\n",
    "\n",
    "critical_ratio2 = underage2/(underage2+overage2)\n",
    "print(f\"The new Critical Ratio is :\",round(critical_ratio2,2))\n",
    "print(\"\")\n",
    "print(\"In this case Nergis Cafe should make 30 Baclavas at the start of each day as the cumulative prob for 30 baclavas being sold is 0.87 > CR\")"
   ]
  },
  {
   "cell_type": "code",
   "execution_count": null,
   "metadata": {
    "colab": {
     "base_uri": "https://localhost:8080/"
    },
    "id": "naZkNycSeNBT",
    "outputId": "fc127da4-9328-450f-a018-d5c711ce813a"
   },
   "outputs": [
    {
     "name": "stdout",
     "output_type": "stream",
     "text": [
      "The overage cost when purchasing from Cemile's is : 0.13\n",
      "The underage cost when purchasing from Cemile's is : 0.3\n",
      "The new Critical Ratio when purchasing from Cemile's is : 0.7\n",
      "\n",
      "Since the CR is 0.7, Nergis should purchase 25 Baclavas as the cumulative probability of 25 Baclavas being sold is 0.7.\n"
     ]
    }
   ],
   "source": [
    "# Question 3\n",
    "purchase = 0.20\n",
    "sell = 0.50\n",
    "salvage = 0.07\n",
    "\n",
    "overage3 = 0.2 - 0.07\n",
    "underage3 = 0.5 - 0.2\n",
    "\n",
    "print(f\"The overage cost when purchasing from Cemile's is :\",overage3)\n",
    "print(f\"The underage cost when purchasing from Cemile's is :\",underage3)\n",
    "\n",
    "critical_ratio3 = underage3/(underage3+overage3)\n",
    "print(f\"The new Critical Ratio when purchasing from Cemile's is :\",round(critical_ratio3,2))\n",
    "print(\"\")\n",
    "print(\"Since the CR is 0.7, Nergis should purchase 25 Baclavas as the cumulative probability of 25 Baclavas being sold is 0.7.\")"
   ]
  },
  {
   "cell_type": "code",
   "execution_count": null,
   "metadata": {
    "colab": {
     "base_uri": "https://localhost:8080/"
    },
    "id": "PLTv9xOWfL3M",
    "outputId": "803cd3e5-ad42-47cb-c0ae-08273d5f32ac"
   },
   "outputs": [
    {
     "name": "stdout",
     "output_type": "stream",
     "text": [
      "The overage cost when purchasing from Cemile's with rebate is : 0.2\n",
      "The underage cost when purchasing from Cemile's with rebate is : 0.32\n",
      "The new Critical Ratio when purchasing from Cemile's with rebate is : 0.62\n",
      "\n",
      "Since the CR is 0.62 now, Nergis should only purchase 20 Baclavas as the cumulative probability of 20 Baclavas being sold is 0.47.\n"
     ]
    }
   ],
   "source": [
    "# Question 4\n",
    "\n",
    "overage4 = 0.2\n",
    "underage4 = 0.5 - 0.2 + 0.02\n",
    "\n",
    "print(f\"The overage cost when purchasing from Cemile's with rebate is :\",overage4)\n",
    "print(f\"The underage cost when purchasing from Cemile's with rebate is :\",underage4)\n",
    "\n",
    "critical_ratio4 = underage4/(underage4+overage4)\n",
    "print(f\"The new Critical Ratio when purchasing from Cemile's with rebate is :\",round(critical_ratio4,2))\n",
    "print(\"\")\n",
    "print(\"Since the CR is 0.62 now, Nergis should only purchase 20 Baclavas as the cumulative probability of 20 Baclavas being sold is 0.47.\")"
   ]
  },
  {
   "cell_type": "markdown",
   "metadata": {
    "id": "pn_FMLmwy-l8"
   },
   "source": [
    "# Multi Commodity Flow Network"
   ]
  },
  {
   "cell_type": "markdown",
   "metadata": {
    "id": "aq_Njslh-ExL"
   },
   "source": [
    "K Commodities\n",
    "\n",
    "V Nodes\n",
    "\n",
    "E Edges\n",
    "\n",
    "Cost for each Edge $(i,j) \\in E = c_{ij}$\n",
    "\n",
    "Capacity for each Edge $(i,j) \\in E = u_{ij}$\n",
    "\n",
    "Flow of each item $k \\in K$ in each edge $(i,j) \\in E = x_{kij}$\n",
    "\n",
    "*Objective: To find the Min Cost Flow*\n",
    "\n",
    "$\\min \\sum_{k \\in K, (i,j) \\in E} c_{ij}*x_{kij}$\n",
    "\n",
    "*Constraints:*\n",
    "\n",
    "*Node flow constraint*\n",
    "$\\sum_{j:(i,j) \\in E} x_{kij} - \\sum_{j:(j,i) \\in E} x_{kji} = b_{j}$ for all $j \\in V$ and $k \\in K$\n",
    "\n",
    "*Flow capacity constraint:*\n",
    "$\\sum_{k \\in K} x_{kij} \\leq u_{ij}$ for all $(i,j) \\in E$"
   ]
  },
  {
   "cell_type": "markdown",
   "metadata": {
    "id": "2-7EQKwHGVxq"
   },
   "source": [
    "3 Nodes, 3 Directed Edges, 3 Commodities\n",
    "\n",
    "Sending 1/3rd of each commodity through each edge proves that the solution to this case does not have to be integral."
   ]
  }
 ],
 "metadata": {
  "colab": {
   "collapsed_sections": [
    "yARsb0r1yl3Q",
    "I3sAlFSLjjvK"
   ],
   "provenance": []
  },
  "kernelspec": {
   "display_name": "Python 3 (ipykernel)",
   "language": "python",
   "name": "python3"
  },
  "language_info": {
   "codemirror_mode": {
    "name": "ipython",
    "version": 3
   },
   "file_extension": ".py",
   "mimetype": "text/x-python",
   "name": "python",
   "nbconvert_exporter": "python",
   "pygments_lexer": "ipython3",
   "version": "3.7.10"
  }
 },
 "nbformat": 4,
 "nbformat_minor": 1
}
